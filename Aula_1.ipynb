{
 "cells": [
  {
   "cell_type": "markdown",
   "metadata": {},
   "source": [
    "CE2 Python\n",
    "\n",
    "# Atividades avaliativas:\n",
    "- Exercícios individuais\n",
    "\n",
    "# Trabalho¹ em grupo (~ 3 pessoas):\n",
    "- Tema único\n",
    "\n",
    "# Trabalho² em grupo (~ 3 pessoas):\n",
    "- Tema livre\n",
    "\n"
   ]
  }
 ],
 "metadata": {
  "language_info": {
   "name": "python"
  },
  "orig_nbformat": 4
 },
 "nbformat": 4,
 "nbformat_minor": 2
}
