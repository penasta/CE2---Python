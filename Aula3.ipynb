{
  "cells": [
    {
      "cell_type": "code",
      "execution_count": 32,
      "metadata": {
        "id": "Yr0kNO0-At_S"
      },
      "outputs": [],
      "source": [
        "import random\n",
        "random.seed(12345)\n",
        "valores = random.choices(range(2000),k = 30)\n",
        "import numpy as np"
      ]
    },
    {
      "cell_type": "code",
      "execution_count": 48,
      "metadata": {
        "id": "S4jO2--oAt_Y"
      },
      "outputs": [],
      "source": [
        "nome = \"eduardo\"\n",
        "def media(x):\n",
        "    soma = 0\n",
        "    for i in x:\n",
        "        soma = soma + i\n",
        "    return soma/len(x)"
      ]
    },
    {
      "cell_type": "code",
      "execution_count": 49,
      "metadata": {
        "id": "wgAVVl-VAt_Z",
        "outputId": "2354919b-96ec-480c-842d-d6efbda5813e"
      },
      "outputs": [
        {
          "data": {
            "text/plain": [
              "891.7"
            ]
          },
          "execution_count": 49,
          "metadata": {},
          "output_type": "execute_result"
        }
      ],
      "source": [
        "media(valores)"
      ]
    },
    {
      "cell_type": "code",
      "execution_count": 35,
      "metadata": {
        "id": "Y7TYDozyAt_b"
      },
      "outputs": [],
      "source": [
        "def minimo(x):\n",
        "    final = x[0]\n",
        "    for i in x[1:]:\n",
        "        if final > i:\n",
        "            final = i\n",
        "    return final\n",
        "\n"
      ]
    },
    {
      "cell_type": "code",
      "execution_count": 36,
      "metadata": {
        "id": "9SbiR87NAt_c",
        "outputId": "fa84386a-61b6-4695-cba4-d4dfdc8d56fe"
      },
      "outputs": [
        {
          "data": {
            "text/plain": [
              "6"
            ]
          },
          "execution_count": 36,
          "metadata": {},
          "output_type": "execute_result"
        }
      ],
      "source": [
        "minimo(valores)"
      ]
    },
    {
      "cell_type": "code",
      "execution_count": 37,
      "metadata": {
        "id": "4Gx_7TgNAt_c"
      },
      "outputs": [],
      "source": [
        "def maximo(x):\n",
        "    return sorted(x)[-1]"
      ]
    },
    {
      "cell_type": "code",
      "execution_count": 38,
      "metadata": {
        "id": "lom_6FfJAt_d",
        "outputId": "2c0291ae-78d9-4595-ec17-34f62d347e00"
      },
      "outputs": [
        {
          "data": {
            "text/plain": [
              "1957"
            ]
          },
          "execution_count": 38,
          "metadata": {},
          "output_type": "execute_result"
        }
      ],
      "source": [
        "maximo(valores)"
      ]
    },
    {
      "cell_type": "code",
      "execution_count": 39,
      "metadata": {
        "id": "nfKOEup2At_e"
      },
      "outputs": [],
      "source": [
        "def media2(x):\n",
        "    soma = 0\n",
        "    for i in range(len(x)):\n",
        "        soma += x[i]\n",
        "    return soma/len(x)\n"
      ]
    },
    {
      "cell_type": "code",
      "execution_count": 40,
      "metadata": {
        "id": "UimBLzmGAt_f",
        "outputId": "21447845-20d6-4f0f-9f37-ea42e7802d0b"
      },
      "outputs": [
        {
          "data": {
            "text/plain": [
              "891.7"
            ]
          },
          "execution_count": 40,
          "metadata": {},
          "output_type": "execute_result"
        }
      ],
      "source": [
        "media2(valores)"
      ]
    },
    {
      "cell_type": "code",
      "execution_count": 41,
      "metadata": {
        "id": "R4DoB9QTAt_g"
      },
      "outputs": [],
      "source": [
        "def mediana(x):\n",
        "    n = len(x)\n",
        "    x.sort()\n",
        "    if n % 2 == 0:\n",
        "        return (x[int(n/2)] + x[int(n/2)-1])/2\n",
        "    return x[np.floor(n/2)]"
      ]
    },
    {
      "cell_type": "code",
      "execution_count": 42,
      "metadata": {
        "id": "XYKkV0gTAt_g",
        "outputId": "64d87343-94b3-461b-9459-1149a28a551b"
      },
      "outputs": [
        {
          "data": {
            "text/plain": [
              "780.0"
            ]
          },
          "execution_count": 42,
          "metadata": {},
          "output_type": "execute_result"
        }
      ],
      "source": [
        "mediana(valores)"
      ]
    },
    {
      "cell_type": "code",
      "execution_count": 43,
      "metadata": {
        "id": "jMnKEFGiAt_h",
        "outputId": "a4b5f2b3-482f-439f-84c6-59bf46f6257c"
      },
      "outputs": [
        {
          "data": {
            "text/plain": [
              "1"
            ]
          },
          "execution_count": 43,
          "metadata": {},
          "output_type": "execute_result"
        }
      ],
      "source": [
        "5 % 2"
      ]
    },
    {
      "cell_type": "code",
      "execution_count": 44,
      "metadata": {
        "id": "IBDRGFzpAt_h",
        "outputId": "c48458ad-5b6d-41b3-a148-2400a9fd3471"
      },
      "outputs": [
        {
          "data": {
            "text/plain": [
              "2"
            ]
          },
          "execution_count": 44,
          "metadata": {},
          "output_type": "execute_result"
        }
      ],
      "source": [
        "5 // 2"
      ]
    },
    {
      "cell_type": "code",
      "execution_count": 45,
      "metadata": {
        "id": "PnZHINJ7At_h",
        "outputId": "ddaf9021-877d-4d1e-d85e-5e45d5c68982"
      },
      "outputs": [
        {
          "data": {
            "text/plain": [
              "0"
            ]
          },
          "execution_count": 45,
          "metadata": {},
          "output_type": "execute_result"
        }
      ],
      "source": [
        "int(1/3)"
      ]
    },
    {
      "cell_type": "code",
      "execution_count": 46,
      "metadata": {
        "id": "a4cMaY_hAt_i",
        "outputId": "16bfab2f-59c1-4717-d40b-519c00ae3b72"
      },
      "outputs": [
        {
          "data": {
            "text/plain": [
              "0"
            ]
          },
          "execution_count": 46,
          "metadata": {},
          "output_type": "execute_result"
        }
      ],
      "source": [
        "int(2/3)"
      ]
    },
    {
      "cell_type": "code",
      "execution_count": 50,
      "metadata": {
        "id": "GXhjk3K1At_i",
        "outputId": "d3779669-1f1d-4100-b020-d1f3ccff98ca"
      },
      "outputs": [
        {
          "data": {
            "text/plain": [
              "624.2717437142257"
            ]
          },
          "execution_count": 50,
          "metadata": {},
          "output_type": "execute_result"
        }
      ],
      "source": [
        "def desvpad(x):\n",
        "    mu = media(x)\n",
        "    desvios_quad = [(i - mu)**2 for i in x]\n",
        "    return media(desvios_quad) ** (1/2)\n",
        "desvpad(valores)"
      ]
    },
    {
      "cell_type": "code",
      "execution_count": 51,
      "metadata": {
        "id": "CQQnmNb2At_j"
      },
      "outputs": [],
      "source": [
        "def conta_menores(x):\n",
        "    mu = media(x)\n",
        "    return len([i for i in x if i < mu])"
      ]
    },
    {
      "cell_type": "code",
      "execution_count": 52,
      "metadata": {
        "id": "xIXNGnIAAt_j",
        "outputId": "8c9944be-cb59-4aba-ea41-baadcbce4ee2"
      },
      "outputs": [
        {
          "data": {
            "text/plain": [
              "18"
            ]
          },
          "execution_count": 52,
          "metadata": {},
          "output_type": "execute_result"
        }
      ],
      "source": [
        "conta_menores(valores)"
      ]
    },
    {
      "cell_type": "code",
      "execution_count": 53,
      "metadata": {
        "id": "H9wfI04CAt_j"
      },
      "outputs": [],
      "source": [
        "def encontra_maiores(x):\n",
        "    mu = media(x)\n",
        "    return [i for i in x if i > mu]"
      ]
    },
    {
      "cell_type": "code",
      "execution_count": 54,
      "metadata": {
        "id": "Rf2aYRTUAt_k",
        "outputId": "77292b5d-2d5b-4282-a1b0-eab6931ecbab"
      },
      "outputs": [
        {
          "data": {
            "text/plain": [
              "[1007, 1106, 1124, 1132, 1437, 1489, 1650, 1880, 1916, 1934, 1957, 1957]"
            ]
          },
          "execution_count": 54,
          "metadata": {},
          "output_type": "execute_result"
        }
      ],
      "source": [
        "encontra_maiores(valores)"
      ]
    },
    {
      "cell_type": "code",
      "execution_count": 55,
      "metadata": {
        "id": "t5TaM9qXAt_k"
      },
      "outputs": [],
      "source": [
        "def conta_letras(texto):\n",
        "    dicionario = {}\n",
        "    for i in texto:\n",
        "        if dicionario.get(i):\n",
        "            dicionario[i] += 1\n",
        "        else:\n",
        "            dicionario[i] = 1\n",
        "    return dicionario\n",
        "comando = \"Construa uma função que receba uma determinada string e retorne a contagem do número de ocorrências de cada uma das letras encontradas\"\n",
        "contagem = conta_letras(comando)"
      ]
    },
    {
      "cell_type": "code",
      "execution_count": 56,
      "metadata": {
        "id": "I4QH6ORDAt_k",
        "outputId": "dd718a46-b120-4ac4-f777-dcc9ca2e7f58"
      },
      "outputs": [
        {
          "data": {
            "text/plain": [
              "16"
            ]
          },
          "execution_count": 56,
          "metadata": {},
          "output_type": "execute_result"
        }
      ],
      "source": [
        "contagem.get(\"a\")"
      ]
    },
    {
      "cell_type": "code",
      "execution_count": 57,
      "metadata": {
        "id": "uTRqvaejAt_l",
        "outputId": "2d615dd9-d2a2-4a35-c654-6c4f99e71ba3"
      },
      "outputs": [
        {
          "name": "stdout",
          "output_type": "stream",
          "text": [
            "100\n"
          ]
        }
      ],
      "source": [
        "print((a := 100))"
      ]
    },
    {
      "cell_type": "code",
      "execution_count": 74,
      "metadata": {
        "id": "2BiK4qpMAt_l",
        "outputId": "c6fafa5d-7263-4fe7-ca09-1b9db22a2046"
      },
      "outputs": [
        {
          "data": {
            "text/plain": [
              "[1, 3, 6, 10]"
            ]
          },
          "execution_count": 74,
          "metadata": {},
          "output_type": "execute_result"
        }
      ],
      "source": [
        "def soma_acumulada(x):\n",
        "    soma = 0\n",
        "    return [(soma:=soma + i) for i in x]\n",
        "soma_acumulada([1,2,3,4])"
      ]
    },
    {
      "cell_type": "code",
      "execution_count": 59,
      "metadata": {
        "id": "DK3u1UfoAt_m",
        "outputId": "dc5fda0a-8724-4c55-9242-2e98859bde92"
      },
      "outputs": [
        {
          "data": {
            "text/plain": [
              "[1, 3, 6, 10]"
            ]
          },
          "execution_count": 59,
          "metadata": {},
          "output_type": "execute_result"
        }
      ],
      "source": [
        "def soma_acumulada2(x):\n",
        "    resultado = []\n",
        "    resultado.append(x[0])\n",
        "    for i in range(1,len(x)):\n",
        "        resultado.append(x[i]+resultado[i-1])\n",
        "    return resultado\n",
        "soma_acumulada2([1,2,3,4])"
      ]
    },
    {
      "cell_type": "code",
      "execution_count": 60,
      "metadata": {
        "id": "WzBFiuYkAt_n",
        "outputId": "6ce8cc6c-2579-4351-8588-ee2c490e6c1a"
      },
      "outputs": [
        {
          "data": {
            "text/plain": [
              "{'C': 0.007462686567164179,\n",
              " 'o': 0.06716417910447761,\n",
              " 'n': 0.07462686567164178,\n",
              " 's': 0.04477611940298507,\n",
              " 't': 0.05223880597014925,\n",
              " 'r': 0.08208955223880597,\n",
              " 'u': 0.04477611940298507,\n",
              " 'a': 0.11940298507462686,\n",
              " ' ': 0.15671641791044777,\n",
              " 'm': 0.04477611940298507,\n",
              " 'f': 0.007462686567164179,\n",
              " 'ç': 0.007462686567164179,\n",
              " 'ã': 0.007462686567164179,\n",
              " 'q': 0.007462686567164179,\n",
              " 'e': 0.1044776119402985,\n",
              " 'c': 0.04477611940298507,\n",
              " 'b': 0.007462686567164179,\n",
              " 'd': 0.05970149253731343,\n",
              " 'i': 0.022388059701492536,\n",
              " 'g': 0.014925373134328358,\n",
              " 'ú': 0.007462686567164179,\n",
              " 'ê': 0.007462686567164179,\n",
              " 'l': 0.007462686567164179}"
            ]
          },
          "execution_count": 60,
          "metadata": {},
          "output_type": "execute_result"
        }
      ],
      "source": [
        "def freq_letras(texto):\n",
        "    n = len(texto)\n",
        "    dicionario = {}\n",
        "    contagem = conta_letras(texto)\n",
        "    for chave in contagem.keys():\n",
        "        dicionario[chave] = contagem[chave]/n\n",
        "    return dicionario\n",
        "freq_letras(comando)\n"
      ]
    },
    {
      "cell_type": "code",
      "execution_count": 61,
      "metadata": {
        "id": "r_65gZvjAt_o"
      },
      "outputs": [],
      "source": [
        "import pandas as pd"
      ]
    },
    {
      "cell_type": "code",
      "execution_count": 62,
      "metadata": {
        "id": "xJbvlAJeAt_o",
        "outputId": "c16f7cac-3b71-4525-f7d5-25294ecc7e06"
      },
      "outputs": [
        {
          "ename": "TypeError",
          "evalue": "can only concatenate list (not \"int\") to list",
          "output_type": "error",
          "traceback": [
            "\u001b[1;31m---------------------------------------------------------------------------\u001b[0m",
            "\u001b[1;31mTypeError\u001b[0m                                 Traceback (most recent call last)",
            "Cell \u001b[1;32mIn[62], line 2\u001b[0m\n\u001b[0;32m      1\u001b[0m lista1 \u001b[39m=\u001b[39m [\u001b[39m1\u001b[39m,\u001b[39m2\u001b[39m,\u001b[39m3\u001b[39m,\u001b[39m4\u001b[39m]\n\u001b[1;32m----> 2\u001b[0m lista1 \u001b[39m+\u001b[39m \u001b[39m1000\u001b[39m\n",
            "\u001b[1;31mTypeError\u001b[0m: can only concatenate list (not \"int\") to list"
          ]
        }
      ],
      "source": [
        "lista1 = [1,2,3,4]\n",
        "lista1 + 1000"
      ]
    },
    {
      "cell_type": "code",
      "execution_count": 63,
      "metadata": {
        "id": "bRIEkVhBAt_o",
        "outputId": "a40e1d6f-bcd9-49cc-c5a1-7d612d18e4fb"
      },
      "outputs": [
        {
          "data": {
            "text/plain": [
              "0    1001\n",
              "1    1002\n",
              "2    1003\n",
              "3    1004\n",
              "dtype: int64"
            ]
          },
          "execution_count": 63,
          "metadata": {},
          "output_type": "execute_result"
        }
      ],
      "source": [
        "pd.Series(lista1) + 1000"
      ]
    },
    {
      "cell_type": "code",
      "execution_count": 65,
      "metadata": {
        "id": "BmcRt9gZAt_o",
        "outputId": "c88e7833-c253-41d0-b87f-66b617aca7c8"
      },
      "outputs": [
        {
          "data": {
            "text/plain": [
              "0    11\n",
              "1    22\n",
              "2    33\n",
              "3    44\n",
              "dtype: int64"
            ]
          },
          "execution_count": 65,
          "metadata": {},
          "output_type": "execute_result"
        }
      ],
      "source": [
        "pd.Series(lista1) + pd.Series([10,20,30,40])"
      ]
    },
    {
      "cell_type": "code",
      "execution_count": 66,
      "metadata": {
        "id": "_sWosNM8At_p",
        "outputId": "a9b4c27c-ef55-4f58-e933-8ad82e9620b7"
      },
      "outputs": [
        {
          "data": {
            "text/plain": [
              "0    11.0\n",
              "1    22.0\n",
              "2     NaN\n",
              "3     NaN\n",
              "dtype: float64"
            ]
          },
          "execution_count": 66,
          "metadata": {},
          "output_type": "execute_result"
        }
      ],
      "source": [
        "pd.Series(lista1) + pd.Series([10,20])"
      ]
    },
    {
      "cell_type": "code",
      "execution_count": 75,
      "metadata": {
        "id": "TAMW8PHwAt_p"
      },
      "outputs": [],
      "source": [
        "alunos = [\n",
        "{\"nome\":\"ana\",\"idade\":10,\"curso\":\"pintura\"},\n",
        "{\"nome\":\"bia\",\"idade\":20,\"curso\":\"espanhol\"},\n",
        "{\"nome\":\"carol\",\"idade\":3, \"curso\":\"estatística\"}\n",
        "]"
      ]
    },
    {
      "cell_type": "code",
      "execution_count": 76,
      "metadata": {
        "id": "EMiI-tyiAt_p",
        "outputId": "02e9cd3c-9cac-4107-bd48-cd2f40aeb8f3"
      },
      "outputs": [
        {
          "data": {
            "text/html": [
              "<div>\n",
              "<style scoped>\n",
              "    .dataframe tbody tr th:only-of-type {\n",
              "        vertical-align: middle;\n",
              "    }\n",
              "\n",
              "    .dataframe tbody tr th {\n",
              "        vertical-align: top;\n",
              "    }\n",
              "\n",
              "    .dataframe thead th {\n",
              "        text-align: right;\n",
              "    }\n",
              "</style>\n",
              "<table border=\"1\" class=\"dataframe\">\n",
              "  <thead>\n",
              "    <tr style=\"text-align: right;\">\n",
              "      <th></th>\n",
              "      <th>nome</th>\n",
              "      <th>idade</th>\n",
              "      <th>curso</th>\n",
              "    </tr>\n",
              "  </thead>\n",
              "  <tbody>\n",
              "    <tr>\n",
              "      <th>0</th>\n",
              "      <td>ana</td>\n",
              "      <td>10</td>\n",
              "      <td>pintura</td>\n",
              "    </tr>\n",
              "    <tr>\n",
              "      <th>1</th>\n",
              "      <td>bia</td>\n",
              "      <td>20</td>\n",
              "      <td>espanhol</td>\n",
              "    </tr>\n",
              "    <tr>\n",
              "      <th>2</th>\n",
              "      <td>carol</td>\n",
              "      <td>3</td>\n",
              "      <td>estatística</td>\n",
              "    </tr>\n",
              "  </tbody>\n",
              "</table>\n",
              "</div>"
            ],
            "text/plain": [
              "    nome  idade        curso\n",
              "0    ana     10      pintura\n",
              "1    bia     20     espanhol\n",
              "2  carol      3  estatística"
            ]
          },
          "execution_count": 76,
          "metadata": {},
          "output_type": "execute_result"
        }
      ],
      "source": [
        "dados = pd.DataFrame(alunos)\n",
        "dados"
      ]
    },
    {
      "cell_type": "code",
      "execution_count": 77,
      "metadata": {
        "id": "97_NISxYAt_p",
        "outputId": "95765cde-0a8e-4349-9ccd-e4e12a924895"
      },
      "outputs": [
        {
          "data": {
            "text/plain": [
              "0        pintura\n",
              "1       espanhol\n",
              "2    estatística\n",
              "Name: curso, dtype: object"
            ]
          },
          "execution_count": 77,
          "metadata": {},
          "output_type": "execute_result"
        }
      ],
      "source": [
        "dados.curso"
      ]
    },
    {
      "cell_type": "code",
      "execution_count": 78,
      "metadata": {
        "id": "Z1l3pqmFAt_q",
        "outputId": "f531a2df-9a48-4d78-d19c-753ad1e78a2a"
      },
      "outputs": [
        {
          "data": {
            "text/plain": [
              "110"
            ]
          },
          "execution_count": 78,
          "metadata": {},
          "output_type": "execute_result"
        }
      ],
      "source": [
        "dados.idade[0] + 100"
      ]
    },
    {
      "cell_type": "code",
      "execution_count": 71,
      "metadata": {
        "id": "Shkp7AfHAt_q",
        "outputId": "bdd20dae-9856-4c6b-862b-4a669cbd80a0"
      },
      "outputs": [
        {
          "data": {
            "text/plain": [
              "0        pintura\n",
              "1       espanhol\n",
              "2    estatística\n",
              "Name: curso, dtype: object"
            ]
          },
          "execution_count": 71,
          "metadata": {},
          "output_type": "execute_result"
        }
      ],
      "source": [
        "dados['curso']"
      ]
    },
    {
      "cell_type": "code",
      "execution_count": 72,
      "metadata": {
        "id": "Eb_f8fEyAt_r",
        "outputId": "5a998fc8-8038-4764-de8d-6cb5a740e806"
      },
      "outputs": [
        {
          "data": {
            "text/html": [
              "<div>\n",
              "<style scoped>\n",
              "    .dataframe tbody tr th:only-of-type {\n",
              "        vertical-align: middle;\n",
              "    }\n",
              "\n",
              "    .dataframe tbody tr th {\n",
              "        vertical-align: top;\n",
              "    }\n",
              "\n",
              "    .dataframe thead th {\n",
              "        text-align: right;\n",
              "    }\n",
              "</style>\n",
              "<table border=\"1\" class=\"dataframe\">\n",
              "  <thead>\n",
              "    <tr style=\"text-align: right;\">\n",
              "      <th></th>\n",
              "      <th>nome</th>\n",
              "      <th>idade</th>\n",
              "    </tr>\n",
              "  </thead>\n",
              "  <tbody>\n",
              "    <tr>\n",
              "      <th>0</th>\n",
              "      <td>ana</td>\n",
              "      <td>10</td>\n",
              "    </tr>\n",
              "    <tr>\n",
              "      <th>1</th>\n",
              "      <td>bia</td>\n",
              "      <td>20</td>\n",
              "    </tr>\n",
              "    <tr>\n",
              "      <th>2</th>\n",
              "      <td>carol</td>\n",
              "      <td>3</td>\n",
              "    </tr>\n",
              "  </tbody>\n",
              "</table>\n",
              "</div>"
            ],
            "text/plain": [
              "    nome  idade\n",
              "0    ana     10\n",
              "1    bia     20\n",
              "2  carol      3"
            ]
          },
          "execution_count": 72,
          "metadata": {},
          "output_type": "execute_result"
        }
      ],
      "source": [
        "dados[['nome','idade']]"
      ]
    },
    {
      "cell_type": "code",
      "execution_count": 79,
      "metadata": {
        "id": "QFC7J1R7At_r",
        "outputId": "4d6d0f82-2bb1-426b-f476-6950b55ed293"
      },
      "outputs": [
        {
          "data": {
            "text/html": [
              "<div>\n",
              "<style scoped>\n",
              "    .dataframe tbody tr th:only-of-type {\n",
              "        vertical-align: middle;\n",
              "    }\n",
              "\n",
              "    .dataframe tbody tr th {\n",
              "        vertical-align: top;\n",
              "    }\n",
              "\n",
              "    .dataframe thead th {\n",
              "        text-align: right;\n",
              "    }\n",
              "</style>\n",
              "<table border=\"1\" class=\"dataframe\">\n",
              "  <thead>\n",
              "    <tr style=\"text-align: right;\">\n",
              "      <th></th>\n",
              "      <th>nome</th>\n",
              "      <th>idade</th>\n",
              "      <th>curso</th>\n",
              "    </tr>\n",
              "  </thead>\n",
              "  <tbody>\n",
              "    <tr>\n",
              "      <th>0</th>\n",
              "      <td>ana</td>\n",
              "      <td>10</td>\n",
              "      <td>pintura</td>\n",
              "    </tr>\n",
              "    <tr>\n",
              "      <th>2</th>\n",
              "      <td>carol</td>\n",
              "      <td>3</td>\n",
              "      <td>estatística</td>\n",
              "    </tr>\n",
              "  </tbody>\n",
              "</table>\n",
              "</div>"
            ],
            "text/plain": [
              "    nome  idade        curso\n",
              "0    ana     10      pintura\n",
              "2  carol      3  estatística"
            ]
          },
          "execution_count": 79,
          "metadata": {},
          "output_type": "execute_result"
        }
      ],
      "source": [
        "dados[[True,False,True]]"
      ]
    },
    {
      "cell_type": "code",
      "execution_count": 80,
      "metadata": {
        "id": "eEKV3CmLAt_y",
        "outputId": "0aa05550-4436-4369-8cf8-ebb6abd992c8"
      },
      "outputs": [
        {
          "data": {
            "text/plain": [
              "0    True\n",
              "1    True\n",
              "2    True\n",
              "Name: idade, dtype: bool"
            ]
          },
          "execution_count": 80,
          "metadata": {},
          "output_type": "execute_result"
        }
      ],
      "source": [
        "dados.idade < 25"
      ]
    },
    {
      "cell_type": "code",
      "execution_count": 81,
      "metadata": {
        "id": "41fZestvAt_y",
        "outputId": "5105a9c5-aaf0-405c-853f-0a95d025f524"
      },
      "outputs": [
        {
          "data": {
            "text/plain": [
              "0      ana\n",
              "2    carol\n",
              "Name: nome, dtype: object"
            ]
          },
          "execution_count": 81,
          "metadata": {},
          "output_type": "execute_result"
        }
      ],
      "source": [
        "dados[dados.idade < 15]['nome']"
      ]
    },
    {
      "cell_type": "code",
      "execution_count": 82,
      "metadata": {
        "id": "FpC6rgUtAt_z",
        "outputId": "eb5ced08-f965-4502-c282-cd2b93ced54a"
      },
      "outputs": [
        {
          "data": {
            "text/plain": [
              "0    10\n",
              "1    20\n",
              "Name: idade, dtype: int64"
            ]
          },
          "execution_count": 82,
          "metadata": {},
          "output_type": "execute_result"
        }
      ],
      "source": [
        "dados.iloc[0:2,1]"
      ]
    },
    {
      "cell_type": "code",
      "execution_count": 83,
      "metadata": {
        "id": "KWh2jJ4dAt_z",
        "outputId": "fd943a0d-38f7-4bfe-e5e0-8b13b3a7591f"
      },
      "outputs": [
        {
          "data": {
            "text/html": [
              "<div>\n",
              "<style scoped>\n",
              "    .dataframe tbody tr th:only-of-type {\n",
              "        vertical-align: middle;\n",
              "    }\n",
              "\n",
              "    .dataframe tbody tr th {\n",
              "        vertical-align: top;\n",
              "    }\n",
              "\n",
              "    .dataframe thead th {\n",
              "        text-align: right;\n",
              "    }\n",
              "</style>\n",
              "<table border=\"1\" class=\"dataframe\">\n",
              "  <thead>\n",
              "    <tr style=\"text-align: right;\">\n",
              "      <th></th>\n",
              "      <th>nome</th>\n",
              "      <th>idade</th>\n",
              "      <th>curso</th>\n",
              "    </tr>\n",
              "  </thead>\n",
              "  <tbody>\n",
              "    <tr>\n",
              "      <th>0</th>\n",
              "      <td>ana</td>\n",
              "      <td>10</td>\n",
              "      <td>pintura</td>\n",
              "    </tr>\n",
              "    <tr>\n",
              "      <th>1</th>\n",
              "      <td>bia</td>\n",
              "      <td>20</td>\n",
              "      <td>espanhol</td>\n",
              "    </tr>\n",
              "    <tr>\n",
              "      <th>2</th>\n",
              "      <td>carol</td>\n",
              "      <td>3</td>\n",
              "      <td>estatística</td>\n",
              "    </tr>\n",
              "  </tbody>\n",
              "</table>\n",
              "</div>"
            ],
            "text/plain": [
              "    nome  idade        curso\n",
              "0    ana     10      pintura\n",
              "1    bia     20     espanhol\n",
              "2  carol      3  estatística"
            ]
          },
          "execution_count": 83,
          "metadata": {},
          "output_type": "execute_result"
        }
      ],
      "source": [
        "dados"
      ]
    },
    {
      "cell_type": "code",
      "execution_count": 84,
      "metadata": {
        "id": "iUMF-cvJAt_z",
        "outputId": "5cea1edc-58f5-4903-c713-52336a099796"
      },
      "outputs": [
        {
          "data": {
            "text/plain": [
              "nome     bia\n",
              "idade     20\n",
              "Name: 1, dtype: object"
            ]
          },
          "execution_count": 84,
          "metadata": {},
          "output_type": "execute_result"
        }
      ],
      "source": [
        "dados.loc[1,[\"nome\",'idade']]"
      ]
    },
    {
      "cell_type": "code",
      "execution_count": 85,
      "metadata": {
        "id": "NcX4ihY1At_0",
        "outputId": "ae040acc-a21c-4174-b4d1-faee95e30280"
      },
      "outputs": [
        {
          "data": {
            "text/html": [
              "<div>\n",
              "<style scoped>\n",
              "    .dataframe tbody tr th:only-of-type {\n",
              "        vertical-align: middle;\n",
              "    }\n",
              "\n",
              "    .dataframe tbody tr th {\n",
              "        vertical-align: top;\n",
              "    }\n",
              "\n",
              "    .dataframe thead th {\n",
              "        text-align: right;\n",
              "    }\n",
              "</style>\n",
              "<table border=\"1\" class=\"dataframe\">\n",
              "  <thead>\n",
              "    <tr style=\"text-align: right;\">\n",
              "      <th></th>\n",
              "      <th>nome</th>\n",
              "      <th>idade</th>\n",
              "    </tr>\n",
              "  </thead>\n",
              "  <tbody>\n",
              "    <tr>\n",
              "      <th>0</th>\n",
              "      <td>ana</td>\n",
              "      <td>10</td>\n",
              "    </tr>\n",
              "    <tr>\n",
              "      <th>1</th>\n",
              "      <td>bia</td>\n",
              "      <td>20</td>\n",
              "    </tr>\n",
              "  </tbody>\n",
              "</table>\n",
              "</div>"
            ],
            "text/plain": [
              "  nome  idade\n",
              "0  ana     10\n",
              "1  bia     20"
            ]
          },
          "execution_count": 85,
          "metadata": {},
          "output_type": "execute_result"
        }
      ],
      "source": [
        "dados.loc[[True,True,False],['nome','idade']]"
      ]
    },
    {
      "cell_type": "code",
      "execution_count": 87,
      "metadata": {
        "id": "ezXe4VwaAt_0"
      },
      "outputs": [],
      "source": [
        "dados.iloc[0,1] = 1000"
      ]
    },
    {
      "cell_type": "code",
      "execution_count": 89,
      "metadata": {
        "id": "T6vgNN_aAt_0",
        "outputId": "da636e59-59af-46ef-89bc-b1e0c8e44c08"
      },
      "outputs": [
        {
          "data": {
            "text/html": [
              "<div>\n",
              "<style scoped>\n",
              "    .dataframe tbody tr th:only-of-type {\n",
              "        vertical-align: middle;\n",
              "    }\n",
              "\n",
              "    .dataframe tbody tr th {\n",
              "        vertical-align: top;\n",
              "    }\n",
              "\n",
              "    .dataframe thead th {\n",
              "        text-align: right;\n",
              "    }\n",
              "</style>\n",
              "<table border=\"1\" class=\"dataframe\">\n",
              "  <thead>\n",
              "    <tr style=\"text-align: right;\">\n",
              "      <th></th>\n",
              "      <th>nome</th>\n",
              "      <th>idade</th>\n",
              "      <th>curso</th>\n",
              "    </tr>\n",
              "  </thead>\n",
              "  <tbody>\n",
              "    <tr>\n",
              "      <th>0</th>\n",
              "      <td>ana</td>\n",
              "      <td>1000</td>\n",
              "      <td>pintura</td>\n",
              "    </tr>\n",
              "    <tr>\n",
              "      <th>1</th>\n",
              "      <td>bia</td>\n",
              "      <td>20</td>\n",
              "      <td>espanhol</td>\n",
              "    </tr>\n",
              "    <tr>\n",
              "      <th>2</th>\n",
              "      <td>carol</td>\n",
              "      <td>3</td>\n",
              "      <td>estatística</td>\n",
              "    </tr>\n",
              "  </tbody>\n",
              "</table>\n",
              "</div>"
            ],
            "text/plain": [
              "    nome  idade        curso\n",
              "0    ana   1000      pintura\n",
              "1    bia     20     espanhol\n",
              "2  carol      3  estatística"
            ]
          },
          "execution_count": 89,
          "metadata": {},
          "output_type": "execute_result"
        }
      ],
      "source": [
        "dados"
      ]
    },
    {
      "cell_type": "code",
      "execution_count": 90,
      "metadata": {
        "id": "iflN_OE1At_1"
      },
      "outputs": [],
      "source": [
        "aneel = pd.read_csv(\"https://raw.githubusercontent.com/edunb01/dotfiles/master/TarifaFornecimentoResidencial.csv\",\n",
        "                   encoding=\"ISO8859_9\")"
      ]
    },
    {
      "cell_type": "code",
      "execution_count": 92,
      "metadata": {},
      "outputs": [
        {
          "data": {
            "text/html": [
              "<div>\n",
              "<style scoped>\n",
              "    .dataframe tbody tr th:only-of-type {\n",
              "        vertical-align: middle;\n",
              "    }\n",
              "\n",
              "    .dataframe tbody tr th {\n",
              "        vertical-align: top;\n",
              "    }\n",
              "\n",
              "    .dataframe thead th {\n",
              "        text-align: right;\n",
              "    }\n",
              "</style>\n",
              "<table border=\"1\" class=\"dataframe\">\n",
              "  <thead>\n",
              "    <tr style=\"text-align: right;\">\n",
              "      <th></th>\n",
              "      <th>ideTarifaFornecimento</th>\n",
              "      <th>nomConcessao</th>\n",
              "      <th>SigDistribuidora</th>\n",
              "      <th>SigRegiao</th>\n",
              "      <th>VlrTUSDConvencional</th>\n",
              "      <th>VlrTEConvencional</th>\n",
              "      <th>VlrTotaTRFConvencional</th>\n",
              "      <th>VlrTRFBrancaPonta</th>\n",
              "      <th>VlrTRFBrancaIntermediaria</th>\n",
              "      <th>VlrTRFBrancaForaPonta</th>\n",
              "      <th>NumResolucao</th>\n",
              "      <th>DthInicioVigencia</th>\n",
              "      <th>DthProcessamento</th>\n",
              "    </tr>\n",
              "  </thead>\n",
              "  <tbody>\n",
              "    <tr>\n",
              "      <th>0</th>\n",
              "      <td>315</td>\n",
              "      <td>Concessionária</td>\n",
              "      <td>AmE</td>\n",
              "      <td>N</td>\n",
              "      <td>0.41472</td>\n",
              "      <td>0.29134</td>\n",
              "      <td>0.70606</td>\n",
              "      <td>1.25504</td>\n",
              "      <td>0.84700</td>\n",
              "      <td>0.61792</td>\n",
              "      <td>2478/2018</td>\n",
              "      <td>01/11/2018 00:00:00</td>\n",
              "      <td>26/07/2019 00:00:00</td>\n",
              "    </tr>\n",
              "    <tr>\n",
              "      <th>1</th>\n",
              "      <td>316</td>\n",
              "      <td>Concessionária</td>\n",
              "      <td>Boa Vista</td>\n",
              "      <td>N</td>\n",
              "      <td>0.32810</td>\n",
              "      <td>0.30652</td>\n",
              "      <td>0.63462</td>\n",
              "      <td>1.25491</td>\n",
              "      <td>0.78768</td>\n",
              "      <td>0.52678</td>\n",
              "      <td>2479/2018</td>\n",
              "      <td>01/11/2018 00:00:00</td>\n",
              "      <td>26/07/2019 00:00:00</td>\n",
              "    </tr>\n",
              "    <tr>\n",
              "      <th>2</th>\n",
              "      <td>317</td>\n",
              "      <td>Permissionária</td>\n",
              "      <td>CASTRO - DIS</td>\n",
              "      <td>S</td>\n",
              "      <td>0.16845</td>\n",
              "      <td>0.16256</td>\n",
              "      <td>0.33101</td>\n",
              "      <td>0.53660</td>\n",
              "      <td>0.41108</td>\n",
              "      <td>0.28557</td>\n",
              "      <td>2477/2018</td>\n",
              "      <td>01/07/2018 00:00:00</td>\n",
              "      <td>26/07/2019 00:00:00</td>\n",
              "    </tr>\n",
              "    <tr>\n",
              "      <th>3</th>\n",
              "      <td>318</td>\n",
              "      <td>Concessionária</td>\n",
              "      <td>CEA</td>\n",
              "      <td>N</td>\n",
              "      <td>0.40338</td>\n",
              "      <td>0.16300</td>\n",
              "      <td>0.56638</td>\n",
              "      <td>1.23492</td>\n",
              "      <td>0.79378</td>\n",
              "      <td>0.46930</td>\n",
              "      <td>2495/2018</td>\n",
              "      <td>01/11/2018 00:00:00</td>\n",
              "      <td>26/07/2019 00:00:00</td>\n",
              "    </tr>\n",
              "    <tr>\n",
              "      <th>4</th>\n",
              "      <td>319</td>\n",
              "      <td>Concessionária</td>\n",
              "      <td>Ceal</td>\n",
              "      <td>NE</td>\n",
              "      <td>0.30413</td>\n",
              "      <td>0.23112</td>\n",
              "      <td>0.53525</td>\n",
              "      <td>1.12359</td>\n",
              "      <td>0.71562</td>\n",
              "      <td>0.45231</td>\n",
              "      <td>2540/2019</td>\n",
              "      <td>01/05/2019 00:00:00</td>\n",
              "      <td>26/07/2019 00:00:00</td>\n",
              "    </tr>\n",
              "    <tr>\n",
              "      <th>...</th>\n",
              "      <td>...</td>\n",
              "      <td>...</td>\n",
              "      <td>...</td>\n",
              "      <td>...</td>\n",
              "      <td>...</td>\n",
              "      <td>...</td>\n",
              "      <td>...</td>\n",
              "      <td>...</td>\n",
              "      <td>...</td>\n",
              "      <td>...</td>\n",
              "      <td>...</td>\n",
              "      <td>...</td>\n",
              "      <td>...</td>\n",
              "    </tr>\n",
              "    <tr>\n",
              "      <th>99</th>\n",
              "      <td>414</td>\n",
              "      <td>Concessionária</td>\n",
              "      <td>MuxEnergia</td>\n",
              "      <td>S</td>\n",
              "      <td>0.28090</td>\n",
              "      <td>0.20432</td>\n",
              "      <td>0.48522</td>\n",
              "      <td>0.88900</td>\n",
              "      <td>0.56734</td>\n",
              "      <td>0.37386</td>\n",
              "      <td>2571/2019</td>\n",
              "      <td>01/07/2019 00:00:00</td>\n",
              "      <td>26/07/2019 00:00:00</td>\n",
              "    </tr>\n",
              "    <tr>\n",
              "      <th>100</th>\n",
              "      <td>415</td>\n",
              "      <td>Concessionária</td>\n",
              "      <td>RGE</td>\n",
              "      <td>S</td>\n",
              "      <td>0.29026</td>\n",
              "      <td>0.27001</td>\n",
              "      <td>0.56027</td>\n",
              "      <td>0.99421</td>\n",
              "      <td>0.63862</td>\n",
              "      <td>0.45351</td>\n",
              "      <td>2557/2019</td>\n",
              "      <td>01/06/2019 00:00:00</td>\n",
              "      <td>26/07/2019 00:00:00</td>\n",
              "    </tr>\n",
              "    <tr>\n",
              "      <th>101</th>\n",
              "      <td>416</td>\n",
              "      <td>Concessionária</td>\n",
              "      <td>Sul Sudeste</td>\n",
              "      <td>SE</td>\n",
              "      <td>0.25299</td>\n",
              "      <td>0.24436</td>\n",
              "      <td>0.49735</td>\n",
              "      <td>0.89097</td>\n",
              "      <td>0.57105</td>\n",
              "      <td>0.40964</td>\n",
              "      <td>2570/2019</td>\n",
              "      <td>01/07/2019 00:00:00</td>\n",
              "      <td>26/07/2019 00:00:00</td>\n",
              "    </tr>\n",
              "    <tr>\n",
              "      <th>102</th>\n",
              "      <td>417</td>\n",
              "      <td>Concessionária</td>\n",
              "      <td>Sulgipe</td>\n",
              "      <td>NE</td>\n",
              "      <td>0.37035</td>\n",
              "      <td>0.26596</td>\n",
              "      <td>0.63631</td>\n",
              "      <td>1.33785</td>\n",
              "      <td>0.83393</td>\n",
              "      <td>0.50172</td>\n",
              "      <td>2546/2019</td>\n",
              "      <td>01/05/2019 00:00:00</td>\n",
              "      <td>26/07/2019 00:00:00</td>\n",
              "    </tr>\n",
              "    <tr>\n",
              "      <th>103</th>\n",
              "      <td>418</td>\n",
              "      <td>Concessionária</td>\n",
              "      <td>Uhenpal</td>\n",
              "      <td>S</td>\n",
              "      <td>0.34919</td>\n",
              "      <td>0.22330</td>\n",
              "      <td>0.57249</td>\n",
              "      <td>1.13015</td>\n",
              "      <td>0.71862</td>\n",
              "      <td>0.44416</td>\n",
              "      <td>2547/2019</td>\n",
              "      <td>01/05/2019 00:00:00</td>\n",
              "      <td>26/07/2019 00:00:00</td>\n",
              "    </tr>\n",
              "  </tbody>\n",
              "</table>\n",
              "<p>104 rows × 13 columns</p>\n",
              "</div>"
            ],
            "text/plain": [
              "     ideTarifaFornecimento    nomConcessao SigDistribuidora SigRegiao  \\\n",
              "0                      315  Concessionária              AmE        N    \n",
              "1                      316  Concessionária        Boa Vista        N    \n",
              "2                      317  Permissionária     CASTRO - DIS        S    \n",
              "3                      318  Concessionária              CEA        N    \n",
              "4                      319  Concessionária             Ceal        NE   \n",
              "..                     ...             ...              ...       ...   \n",
              "99                     414  Concessionária       MuxEnergia        S    \n",
              "100                    415  Concessionária              RGE        S    \n",
              "101                    416  Concessionária      Sul Sudeste        SE   \n",
              "102                    417  Concessionária          Sulgipe        NE   \n",
              "103                    418  Concessionária          Uhenpal        S    \n",
              "\n",
              "     VlrTUSDConvencional  VlrTEConvencional  VlrTotaTRFConvencional  \\\n",
              "0                0.41472            0.29134                 0.70606   \n",
              "1                0.32810            0.30652                 0.63462   \n",
              "2                0.16845            0.16256                 0.33101   \n",
              "3                0.40338            0.16300                 0.56638   \n",
              "4                0.30413            0.23112                 0.53525   \n",
              "..                   ...                ...                     ...   \n",
              "99               0.28090            0.20432                 0.48522   \n",
              "100              0.29026            0.27001                 0.56027   \n",
              "101              0.25299            0.24436                 0.49735   \n",
              "102              0.37035            0.26596                 0.63631   \n",
              "103              0.34919            0.22330                 0.57249   \n",
              "\n",
              "     VlrTRFBrancaPonta  VlrTRFBrancaIntermediaria  VlrTRFBrancaForaPonta  \\\n",
              "0              1.25504                    0.84700                0.61792   \n",
              "1              1.25491                    0.78768                0.52678   \n",
              "2              0.53660                    0.41108                0.28557   \n",
              "3              1.23492                    0.79378                0.46930   \n",
              "4              1.12359                    0.71562                0.45231   \n",
              "..                 ...                        ...                    ...   \n",
              "99             0.88900                    0.56734                0.37386   \n",
              "100            0.99421                    0.63862                0.45351   \n",
              "101            0.89097                    0.57105                0.40964   \n",
              "102            1.33785                    0.83393                0.50172   \n",
              "103            1.13015                    0.71862                0.44416   \n",
              "\n",
              "    NumResolucao    DthInicioVigencia     DthProcessamento  \n",
              "0      2478/2018  01/11/2018 00:00:00  26/07/2019 00:00:00  \n",
              "1      2479/2018  01/11/2018 00:00:00  26/07/2019 00:00:00  \n",
              "2      2477/2018  01/07/2018 00:00:00  26/07/2019 00:00:00  \n",
              "3      2495/2018  01/11/2018 00:00:00  26/07/2019 00:00:00  \n",
              "4      2540/2019  01/05/2019 00:00:00  26/07/2019 00:00:00  \n",
              "..           ...                  ...                  ...  \n",
              "99     2571/2019  01/07/2019 00:00:00  26/07/2019 00:00:00  \n",
              "100    2557/2019  01/06/2019 00:00:00  26/07/2019 00:00:00  \n",
              "101    2570/2019  01/07/2019 00:00:00  26/07/2019 00:00:00  \n",
              "102    2546/2019  01/05/2019 00:00:00  26/07/2019 00:00:00  \n",
              "103    2547/2019  01/05/2019 00:00:00  26/07/2019 00:00:00  \n",
              "\n",
              "[104 rows x 13 columns]"
            ]
          },
          "execution_count": 92,
          "metadata": {},
          "output_type": "execute_result"
        }
      ],
      "source": [
        "aneel"
      ]
    },
    {
      "cell_type": "code",
      "execution_count": 91,
      "metadata": {
        "id": "k5rx129sAt_1",
        "outputId": "019ce909-db08-414f-ab8c-a0d24f47c2bf"
      },
      "outputs": [
        {
          "data": {
            "text/plain": [
              "array(['N ', 'S ', 'NE', 'CO', 'SE'], dtype=object)"
            ]
          },
          "execution_count": 91,
          "metadata": {},
          "output_type": "execute_result"
        }
      ],
      "source": [
        "aneel['SigRegiao'].unique()"
      ]
    }
  ],
  "metadata": {
    "colab": {
      "provenance": []
    },
    "kernelspec": {
      "display_name": "Python 3",
      "language": "python",
      "name": "python3"
    },
    "language_info": {
      "codemirror_mode": {
        "name": "ipython",
        "version": 3
      },
      "file_extension": ".py",
      "mimetype": "text/x-python",
      "name": "python",
      "nbconvert_exporter": "python",
      "pygments_lexer": "ipython3",
      "version": "3.11.3"
    },
    "orig_nbformat": 4
  },
  "nbformat": 4,
  "nbformat_minor": 0
}
