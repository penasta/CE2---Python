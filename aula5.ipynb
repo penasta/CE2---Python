{
 "cells": [
  {
   "cell_type": "code",
   "execution_count": 1,
   "metadata": {},
   "outputs": [],
   "source": [
    "import math"
   ]
  },
  {
   "cell_type": "code",
   "execution_count": 4,
   "metadata": {},
   "outputs": [],
   "source": [
    "def prob_binom (k,n,p):\n",
    "    return (math.comb(n,k)*(p**k)) * (1-p)**(n-k)"
   ]
  },
  {
   "cell_type": "code",
   "execution_count": 9,
   "metadata": {},
   "outputs": [
    {
     "data": {
      "text/plain": [
       "0.2048000000000001"
      ]
     },
     "execution_count": 9,
     "metadata": {},
     "output_type": "execute_result"
    }
   ],
   "source": [
    "prob_binom(2,5,.2)"
   ]
  },
  {
   "cell_type": "code",
   "execution_count": 25,
   "metadata": {},
   "outputs": [],
   "source": [
    "def prob_binom_int (k,n,p):\n",
    "    x = 0\n",
    "    i = 1\n",
    "    while i < n:\n",
    "        x = x + (math.comb(n,k)*(p**k)) * (1-p)**(n-k)\n",
    "        i = i + 1\n",
    "    return x"
   ]
  },
  {
   "cell_type": "code",
   "execution_count": 31,
   "metadata": {},
   "outputs": [
    {
     "data": {
      "text/plain": [
       "0.8192000000000004"
      ]
     },
     "execution_count": 31,
     "metadata": {},
     "output_type": "execute_result"
    }
   ],
   "source": [
    "prob_binom_int(2,5,.2) # deu ruim"
   ]
  },
  {
   "cell_type": "code",
   "execution_count": null,
   "metadata": {},
   "outputs": [],
   "source": [
    "# sol. do professor:\n",
    "def acum_binom(x,n,p):\n",
    "    \n"
   ]
  },
  {
   "cell_type": "code",
   "execution_count": 39,
   "metadata": {},
   "outputs": [
    {
     "data": {
      "text/plain": [
       "0.7720093042975508"
      ]
     },
     "execution_count": 39,
     "metadata": {},
     "output_type": "execute_result"
    }
   ],
   "source": [
    "import random\n",
    "random.random() # gerando nºs unif."
   ]
  },
  {
   "cell_type": "code",
   "execution_count": 36,
   "metadata": {},
   "outputs": [
    {
     "name": "stdout",
     "output_type": "stream",
     "text": [
      "0.3276800000000001\n",
      "0.4096000000000001\n",
      "0.2048000000000001\n",
      "0.05120000000000002\n",
      "0.006400000000000002\n",
      "0.0003200000000000001\n"
     ]
    }
   ],
   "source": [
    "for i in range(6):\n",
    "    print(prob_binom(i,5,.2))"
   ]
  },
  {
   "cell_type": "code",
   "execution_count": 56,
   "metadata": {},
   "outputs": [],
   "source": [
    "def gera_binom(n,p):\n",
    "    u = random.random()\n",
    "    for i in range(n+1):\n",
    "        if u <= acum_binom(i,n,p):\n",
    "            return i"
   ]
  },
  {
   "cell_type": "code",
   "execution_count": null,
   "metadata": {},
   "outputs": [],
   "source": [
    "gera_binom(5,.2)"
   ]
  },
  {
   "cell_type": "code",
   "execution_count": 60,
   "metadata": {},
   "outputs": [],
   "source": [
    "from scipy import stats"
   ]
  },
  {
   "cell_type": "code",
   "execution_count": 61,
   "metadata": {},
   "outputs": [
    {
     "data": {
      "text/plain": [
       "0.20479999999999987"
      ]
     },
     "execution_count": 61,
     "metadata": {},
     "output_type": "execute_result"
    }
   ],
   "source": [
    "stats.binom.pmf(2,5,.2)"
   ]
  },
  {
   "cell_type": "code",
   "execution_count": 62,
   "metadata": {},
   "outputs": [
    {
     "data": {
      "text/plain": [
       "0.2048000000000001"
      ]
     },
     "execution_count": 62,
     "metadata": {},
     "output_type": "execute_result"
    }
   ],
   "source": [
    "prob_binom(2,5,.2)"
   ]
  },
  {
   "cell_type": "code",
   "execution_count": 64,
   "metadata": {},
   "outputs": [
    {
     "data": {
      "text/plain": [
       "array([3.2768e-01, 4.0960e-01, 2.0480e-01, 5.1200e-02, 6.4000e-03,\n",
       "       3.2000e-04])"
      ]
     },
     "execution_count": 64,
     "metadata": {},
     "output_type": "execute_result"
    }
   ],
   "source": [
    "stats.binom.pmf(list(range(6)),5,.2)"
   ]
  },
  {
   "cell_type": "code",
   "execution_count": 66,
   "metadata": {},
   "outputs": [
    {
     "data": {
      "text/plain": [
       "array([3.2768e-01, 4.0960e-01, 2.0480e-01, 5.1200e-02, 6.4000e-03,\n",
       "       3.2000e-04])"
      ]
     },
     "execution_count": 66,
     "metadata": {},
     "output_type": "execute_result"
    }
   ],
   "source": [
    "stats.binom.pmf([0,1,2,3,4,5],5,.2)"
   ]
  },
  {
   "cell_type": "code",
   "execution_count": 68,
   "metadata": {},
   "outputs": [
    {
     "data": {
      "text/plain": [
       "array([0.32768, 0.73728, 0.94208, 0.99328, 0.99968, 1.     ])"
      ]
     },
     "execution_count": 68,
     "metadata": {},
     "output_type": "execute_result"
    }
   ],
   "source": [
    "stats.binom.cdf(list(range(6)),5,.2)"
   ]
  },
  {
   "cell_type": "code",
   "execution_count": 73,
   "metadata": {},
   "outputs": [
    {
     "data": {
      "text/plain": [
       "array([3, 2, 0, 0, 2, 0, 0, 2, 1, 3, 0, 0, 1, 1, 0, 0, 1, 0, 2, 0, 1, 1,\n",
       "       0, 1, 1, 0, 0, 0, 2, 2, 0, 3, 1, 0, 2, 2, 1, 1, 2, 1, 1, 2, 0, 0,\n",
       "       2, 1, 2, 1, 0, 0, 1, 3, 2, 1, 3, 1, 0, 0, 1, 2, 1, 0, 1, 0, 2, 3,\n",
       "       2, 1, 0, 1, 1, 1, 0, 1, 1, 2, 1, 1, 1, 2, 1, 1, 1, 1, 1, 1, 1, 1,\n",
       "       0, 0, 0, 1, 4, 1, 0, 1, 1, 0, 3, 0], dtype=int64)"
      ]
     },
     "execution_count": 73,
     "metadata": {},
     "output_type": "execute_result"
    }
   ],
   "source": [
    "stats.binom.rvs(size=100,n=5,p=.2)"
   ]
  },
  {
   "cell_type": "code",
   "execution_count": 74,
   "metadata": {},
   "outputs": [],
   "source": [
    "binomial = stats.binom(n=5,p=.2)"
   ]
  },
  {
   "cell_type": "code",
   "execution_count": 75,
   "metadata": {},
   "outputs": [
    {
     "data": {
      "text/plain": [
       "array([1, 0, 2, 0, 1, 0, 0, 1, 1, 0, 1, 2, 1, 0, 2, 1, 0, 0, 2, 1],\n",
       "      dtype=int64)"
      ]
     },
     "execution_count": 75,
     "metadata": {},
     "output_type": "execute_result"
    }
   ],
   "source": [
    "binomial.rvs(20)"
   ]
  },
  {
   "cell_type": "code",
   "execution_count": 76,
   "metadata": {},
   "outputs": [],
   "source": [
    "import seaborn as sns"
   ]
  },
  {
   "cell_type": "code",
   "execution_count": 95,
   "metadata": {},
   "outputs": [
    {
     "data": {
      "text/plain": [
       "<Axes: ylabel='count'>"
      ]
     },
     "execution_count": 95,
     "metadata": {},
     "output_type": "execute_result"
    },
    {
     "data": {
      "image/png": "[encoded data removed]",
      "text/plain": [
       "<Figure size 640x480 with 1 Axes>"
      ]
     },
     "metadata": {},
     "output_type": "display_data"
    }
   ],
   "source": [
    "valores = binomial.rvs(2000)\n",
    "possiveis = list(range(6))\n",
    "sns.countplot(x=valores)\n",
    "sns.lineplot(x=possiveis,y=binomial.pmf(possiveis)*2000)"
   ]
  },
  {
   "cell_type": "code",
   "execution_count": 102,
   "metadata": {},
   "outputs": [
    {
     "data": {
      "text/plain": [
       "4.0"
      ]
     },
     "execution_count": 102,
     "metadata": {},
     "output_type": "execute_result"
    }
   ],
   "source": [
    "binomial.ppf(.999)"
   ]
  },
  {
   "cell_type": "markdown",
   "metadata": {},
   "source": [
    "pmf (continua) ou pdf (discreta)\n",
    "\n",
    "cdf -> acumulada\n",
    "\n",
    "rvs -> gera valor aleatório\n",
    "\n",
    "ppf -> quantil"
   ]
  },
  {
   "cell_type": "code",
   "execution_count": 103,
   "metadata": {},
   "outputs": [
    {
     "data": {
      "text/plain": [
       "1.6448536269514722"
      ]
     },
     "execution_count": 103,
     "metadata": {},
     "output_type": "execute_result"
    }
   ],
   "source": [
    "stats.norm.ppf(.95)"
   ]
  },
  {
   "cell_type": "code",
   "execution_count": 104,
   "metadata": {},
   "outputs": [
    {
     "data": {
      "text/plain": [
       "0.9750021048517795"
      ]
     },
     "execution_count": 104,
     "metadata": {},
     "output_type": "execute_result"
    }
   ],
   "source": [
    "stats.norm.cdf(1.96)"
   ]
  },
  {
   "cell_type": "code",
   "execution_count": 106,
   "metadata": {},
   "outputs": [
    {
     "data": {
      "text/plain": [
       "array([ 1.21898987,  1.28560046, -0.37850381, -0.29972727,  1.39495657])"
      ]
     },
     "execution_count": 106,
     "metadata": {},
     "output_type": "execute_result"
    }
   ],
   "source": [
    "stats.norm.rvs(size=5)"
   ]
  },
  {
   "cell_type": "code",
   "execution_count": 107,
   "metadata": {},
   "outputs": [],
   "source": [
    "import numpy as np"
   ]
  },
  {
   "cell_type": "code",
   "execution_count": 109,
   "metadata": {},
   "outputs": [
    {
     "data": {
      "text/plain": [
       "array([-6.        , -5.93969849, -5.87939698, -5.81909548, -5.75879397,\n",
       "       -5.69849246, -5.63819095, -5.57788945, -5.51758794, -5.45728643,\n",
       "       -5.39698492, -5.33668342, -5.27638191, -5.2160804 , -5.15577889,\n",
       "       -5.09547739, -5.03517588, -4.97487437, -4.91457286, -4.85427136,\n",
       "       -4.79396985, -4.73366834, -4.67336683, -4.61306533, -4.55276382,\n",
       "       -4.49246231, -4.4321608 , -4.3718593 , -4.31155779, -4.25125628,\n",
       "       -4.19095477, -4.13065327, -4.07035176, -4.01005025, -3.94974874,\n",
       "       -3.88944724, -3.82914573, -3.76884422, -3.70854271, -3.64824121,\n",
       "       -3.5879397 , -3.52763819, -3.46733668, -3.40703518, -3.34673367,\n",
       "       -3.28643216, -3.22613065, -3.16582915, -3.10552764, -3.04522613,\n",
       "       -2.98492462, -2.92462312, -2.86432161, -2.8040201 , -2.74371859,\n",
       "       -2.68341709, -2.62311558, -2.56281407, -2.50251256, -2.44221106,\n",
       "       -2.38190955, -2.32160804, -2.26130653, -2.20100503, -2.14070352,\n",
       "       -2.08040201, -2.0201005 , -1.95979899, -1.89949749, -1.83919598,\n",
       "       -1.77889447, -1.71859296, -1.65829146, -1.59798995, -1.53768844,\n",
       "       -1.47738693, -1.41708543, -1.35678392, -1.29648241, -1.2361809 ,\n",
       "       -1.1758794 , -1.11557789, -1.05527638, -0.99497487, -0.93467337,\n",
       "       -0.87437186, -0.81407035, -0.75376884, -0.69346734, -0.63316583,\n",
       "       -0.57286432, -0.51256281, -0.45226131, -0.3919598 , -0.33165829,\n",
       "       -0.27135678, -0.21105528, -0.15075377, -0.09045226, -0.03015075,\n",
       "        0.03015075,  0.09045226,  0.15075377,  0.21105528,  0.27135678,\n",
       "        0.33165829,  0.3919598 ,  0.45226131,  0.51256281,  0.57286432,\n",
       "        0.63316583,  0.69346734,  0.75376884,  0.81407035,  0.87437186,\n",
       "        0.93467337,  0.99497487,  1.05527638,  1.11557789,  1.1758794 ,\n",
       "        1.2361809 ,  1.29648241,  1.35678392,  1.41708543,  1.47738693,\n",
       "        1.53768844,  1.59798995,  1.65829146,  1.71859296,  1.77889447,\n",
       "        1.83919598,  1.89949749,  1.95979899,  2.0201005 ,  2.08040201,\n",
       "        2.14070352,  2.20100503,  2.26130653,  2.32160804,  2.38190955,\n",
       "        2.44221106,  2.50251256,  2.56281407,  2.62311558,  2.68341709,\n",
       "        2.74371859,  2.8040201 ,  2.86432161,  2.92462312,  2.98492462,\n",
       "        3.04522613,  3.10552764,  3.16582915,  3.22613065,  3.28643216,\n",
       "        3.34673367,  3.40703518,  3.46733668,  3.52763819,  3.5879397 ,\n",
       "        3.64824121,  3.70854271,  3.76884422,  3.82914573,  3.88944724,\n",
       "        3.94974874,  4.01005025,  4.07035176,  4.13065327,  4.19095477,\n",
       "        4.25125628,  4.31155779,  4.3718593 ,  4.4321608 ,  4.49246231,\n",
       "        4.55276382,  4.61306533,  4.67336683,  4.73366834,  4.79396985,\n",
       "        4.85427136,  4.91457286,  4.97487437,  5.03517588,  5.09547739,\n",
       "        5.15577889,  5.2160804 ,  5.27638191,  5.33668342,  5.39698492,\n",
       "        5.45728643,  5.51758794,  5.57788945,  5.63819095,  5.69849246,\n",
       "        5.75879397,  5.81909548,  5.87939698,  5.93969849,  6.        ])"
      ]
     },
     "execution_count": 109,
     "metadata": {},
     "output_type": "execute_result"
    }
   ],
   "source": [
    "x = np.linspace(-6,6,200)\n",
    "x"
   ]
  },
  {
   "cell_type": "code",
   "execution_count": 119,
   "metadata": {},
   "outputs": [
    {
     "data": {
      "text/plain": [
       "<Axes: >"
      ]
     },
     "execution_count": 119,
     "metadata": {},
     "output_type": "execute_result"
    },
    {
     "data": {
      "image/png": "[encoded data removed]",
      "text/plain": [
       "<Figure size 640x480 with 1 Axes>"
      ]
     },
     "metadata": {},
     "output_type": "display_data"
    }
   ],
   "source": [
    "sns.lineplot(x=x,y=stats.norm.pdf(x))\n",
    "sns.lineplot(x=x,y=stats.norm.pdf(x,scale=2))"
   ]
  },
  {
   "cell_type": "code",
   "execution_count": 120,
   "metadata": {},
   "outputs": [
    {
     "data": {
      "text/html": [
       "<div>\n",
       "<style scoped>\n",
       "    .dataframe tbody tr th:only-of-type {\n",
       "        vertical-align: middle;\n",
       "    }\n",
       "\n",
       "    .dataframe tbody tr th {\n",
       "        vertical-align: top;\n",
       "    }\n",
       "\n",
       "    .dataframe thead th {\n",
       "        text-align: right;\n",
       "    }\n",
       "</style>\n",
       "<table border=\"1\" class=\"dataframe\">\n",
       "  <thead>\n",
       "    <tr style=\"text-align: right;\">\n",
       "      <th></th>\n",
       "      <th>ideTarifaFornecimento</th>\n",
       "      <th>nomConcessao</th>\n",
       "      <th>SigDistribuidora</th>\n",
       "      <th>SigRegiao</th>\n",
       "      <th>VlrTUSDConvencional</th>\n",
       "      <th>VlrTEConvencional</th>\n",
       "      <th>VlrTotaTRFConvencional</th>\n",
       "      <th>VlrTRFBrancaPonta</th>\n",
       "      <th>VlrTRFBrancaIntermediaria</th>\n",
       "      <th>VlrTRFBrancaForaPonta</th>\n",
       "      <th>NumResolucao</th>\n",
       "      <th>DthInicioVigencia</th>\n",
       "      <th>DthProcessamento</th>\n",
       "    </tr>\n",
       "  </thead>\n",
       "  <tbody>\n",
       "    <tr>\n",
       "      <th>0</th>\n",
       "      <td>315</td>\n",
       "      <td>Concessionária</td>\n",
       "      <td>AmE</td>\n",
       "      <td>N</td>\n",
       "      <td>0.41472</td>\n",
       "      <td>0.29134</td>\n",
       "      <td>0.70606</td>\n",
       "      <td>1.25504</td>\n",
       "      <td>0.84700</td>\n",
       "      <td>0.61792</td>\n",
       "      <td>2478/2018</td>\n",
       "      <td>01/11/2018 00:00:00</td>\n",
       "      <td>26/07/2019 00:00:00</td>\n",
       "    </tr>\n",
       "    <tr>\n",
       "      <th>1</th>\n",
       "      <td>316</td>\n",
       "      <td>Concessionária</td>\n",
       "      <td>Boa Vista</td>\n",
       "      <td>N</td>\n",
       "      <td>0.32810</td>\n",
       "      <td>0.30652</td>\n",
       "      <td>0.63462</td>\n",
       "      <td>1.25491</td>\n",
       "      <td>0.78768</td>\n",
       "      <td>0.52678</td>\n",
       "      <td>2479/2018</td>\n",
       "      <td>01/11/2018 00:00:00</td>\n",
       "      <td>26/07/2019 00:00:00</td>\n",
       "    </tr>\n",
       "    <tr>\n",
       "      <th>2</th>\n",
       "      <td>317</td>\n",
       "      <td>Permissionária</td>\n",
       "      <td>CASTRO - DIS</td>\n",
       "      <td>S</td>\n",
       "      <td>0.16845</td>\n",
       "      <td>0.16256</td>\n",
       "      <td>0.33101</td>\n",
       "      <td>0.53660</td>\n",
       "      <td>0.41108</td>\n",
       "      <td>0.28557</td>\n",
       "      <td>2477/2018</td>\n",
       "      <td>01/07/2018 00:00:00</td>\n",
       "      <td>26/07/2019 00:00:00</td>\n",
       "    </tr>\n",
       "  </tbody>\n",
       "</table>\n",
       "</div>"
      ],
      "text/plain": [
       "   ideTarifaFornecimento    nomConcessao SigDistribuidora SigRegiao  \\\n",
       "0                    315  Concessionária              AmE        N    \n",
       "1                    316  Concessionária        Boa Vista        N    \n",
       "2                    317  Permissionária     CASTRO - DIS        S    \n",
       "\n",
       "   VlrTUSDConvencional  VlrTEConvencional  VlrTotaTRFConvencional  \\\n",
       "0              0.41472            0.29134                 0.70606   \n",
       "1              0.32810            0.30652                 0.63462   \n",
       "2              0.16845            0.16256                 0.33101   \n",
       "\n",
       "   VlrTRFBrancaPonta  VlrTRFBrancaIntermediaria  VlrTRFBrancaForaPonta  \\\n",
       "0            1.25504                    0.84700                0.61792   \n",
       "1            1.25491                    0.78768                0.52678   \n",
       "2            0.53660                    0.41108                0.28557   \n",
       "\n",
       "  NumResolucao    DthInicioVigencia     DthProcessamento  \n",
       "0    2478/2018  01/11/2018 00:00:00  26/07/2019 00:00:00  \n",
       "1    2479/2018  01/11/2018 00:00:00  26/07/2019 00:00:00  \n",
       "2    2477/2018  01/07/2018 00:00:00  26/07/2019 00:00:00  "
      ]
     },
     "execution_count": 120,
     "metadata": {},
     "output_type": "execute_result"
    }
   ],
   "source": [
    "import pandas as pd\n",
    "df = pd.read_csv(\"https://raw.githubusercontent.com/edunb01/dotfiles/master/TarifaFornecimentoResidencial.csv\",\n",
    "encoding=\"ISO8859_9\")\n",
    "df.head(3)"
   ]
  },
  {
   "cell_type": "code",
   "execution_count": 138,
   "metadata": {},
   "outputs": [
    {
     "data": {
      "text/plain": [
       "<Axes: xlabel='VlrTRFBrancaForaPonta', ylabel='Count'>"
      ]
     },
     "execution_count": 138,
     "metadata": {},
     "output_type": "execute_result"
    },
    {
     "data": {
      "image/png": "[encoded data removed]",
      "text/plain": [
       "<Figure size 640x480 with 1 Axes>"
      ]
     },
     "metadata": {},
     "output_type": "display_data"
    }
   ],
   "source": [
    "x = df['VlrTRFBrancaForaPonta']\n",
    "sns.histplot(x)\n",
    "sns.lineplot(x=x,y=stats.norm.pdf(x,loc=x.mean(),scale=x.std()))"
   ]
  },
  {
   "cell_type": "code",
   "execution_count": null,
   "metadata": {},
   "outputs": [],
   "source": []
  }
 ],
 "metadata": {
  "kernelspec": {
   "display_name": "Python 3",
   "language": "python",
   "name": "python3"
  },
  "language_info": {
   "codemirror_mode": {
    "name": "ipython",
    "version": 3
   },
   "file_extension": ".py",
   "mimetype": "text/x-python",
   "name": "python",
   "nbconvert_exporter": "python",
   "pygments_lexer": "ipython3",
   "version": "3.11.4"
  },
  "orig_nbformat": 4
 },
 "nbformat": 4,
 "nbformat_minor": 2
}
