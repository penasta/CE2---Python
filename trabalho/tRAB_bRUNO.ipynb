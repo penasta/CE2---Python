{
 "cells": [
  {
   "cell_type": "markdown",
   "metadata": {},
   "source": [
    "--------------------------"
   ]
  },
  {
   "cell_type": "markdown",
   "metadata": {},
   "source": [
    "CE2 - Trabalho 1.\n",
    "\n",
    " Grupo 7.\n",
    "\n",
    " Seção aluno: Bruno Gondim Toledo | matrícula: 15/0167636. e-mail: bruno.gondim@aluno.unb.br\n",
    " \n",
    " Prof. Dr. Eduardo Monteiro de Castro Gomes. Universidade de Brasília, 2º/2023\n",
    "\n",
    "\n",
    "\n",
    "### Informações: Versão Python utilizada na elaboração: Python 3.12.0. IDE: Visual Code Studio.\n",
    "\n",
    "Brasília, 03 de novembro de 2023\n"
   ]
  },
  {
   "cell_type": "markdown",
   "metadata": {},
   "source": [
    "-------------"
   ]
  },
  {
   "cell_type": "markdown",
   "metadata": {},
   "source": [
    "### Pacotes"
   ]
  },
  {
   "cell_type": "code",
   "execution_count": 43,
   "metadata": {},
   "outputs": [],
   "source": [
    "import pandas as pd\n",
    "import numpy as np\n",
    "import nltk\n",
    "import unidecode \n",
    "import re\n",
    "from nltk.corpus import stopwords\n",
    "from nltk.stem import PorterStemmer\n",
    "from xgboost import XGBClassifier\n",
    "#from catboost import CatBoostClassifier, Pool\n",
    "from sklearn import svm\n",
    "from sklearn.feature_extraction.text import CountVectorizer\n",
    "from sklearn.model_selection import train_test_split\n",
    "from sklearn.ensemble import RandomForestClassifier\n",
    "from sklearn.ensemble import GradientBoostingClassifier\n",
    "from sklearn.naive_bayes import GaussianNB\n",
    "from sklearn.naive_bayes import MultinomialNB\n",
    "from sklearn.naive_bayes import ComplementNB\n",
    "from sklearn.metrics import confusion_matrix\n",
    "from sklearn.metrics import classification_report\n",
    "from sklearn.metrics import accuracy_score\n",
    "from sklearn.metrics import precision_score\n",
    "from sklearn.metrics import f1_score\n",
    "from sklearn.preprocessing import LabelEncoder\n",
    "import seaborn as sns"
   ]
  },
  {
   "cell_type": "markdown",
   "metadata": {},
   "source": [
    "------------------------------"
   ]
  },
  {
   "cell_type": "markdown",
   "metadata": {},
   "source": [
    "### Importação e leitura dos dados"
   ]
  },
  {
   "cell_type": "code",
   "execution_count": 44,
   "metadata": {},
   "outputs": [],
   "source": [
    "costumers = pd.read_csv('https://raw.githubusercontent.com/edunb01/dotfiles/master/olist_customers_dataset.csv')\n",
    "itens = pd.read_csv('https://raw.githubusercontent.com/edunb01/dotfiles/master/olist_order_items_dataset.csv')\n",
    "payments = pd.read_csv('https://raw.githubusercontent.com/edunb01/dotfiles/master/olist_order_payments_dataset.csv')\n",
    "reviews = pd.read_csv('https://raw.githubusercontent.com/edunb01/dotfiles/master/olist_order_reviews_dataset.csv')\n",
    "orders = pd.read_csv('https://raw.githubusercontent.com/edunb01/dotfiles/master/olist_orders_dataset.csv')\n",
    "products = pd.read_csv('https://raw.githubusercontent.com/edunb01/dotfiles/master/olist_products_dataset.csv')\n",
    "sellers = pd.read_csv('https://raw.githubusercontent.com/edunb01/dotfiles/master/olist_sellers_dataset.csv')"
   ]
  },
  {
   "cell_type": "markdown",
   "metadata": {},
   "source": [
    "### Junção das tabelas em um banco de dados"
   ]
  },
  {
   "cell_type": "code",
   "execution_count": 45,
   "metadata": {},
   "outputs": [
    {
     "data": {
      "text/html": [
       "<div>\n",
       "<style scoped>\n",
       "    .dataframe tbody tr th:only-of-type {\n",
       "        vertical-align: middle;\n",
       "    }\n",
       "\n",
       "    .dataframe tbody tr th {\n",
       "        vertical-align: top;\n",
       "    }\n",
       "\n",
       "    .dataframe thead th {\n",
       "        text-align: right;\n",
       "    }\n",
       "</style>\n",
       "<table border=\"1\" class=\"dataframe\">\n",
       "  <thead>\n",
       "    <tr style=\"text-align: right;\">\n",
       "      <th></th>\n",
       "      <th>order_id</th>\n",
       "      <th>order_item_id</th>\n",
       "      <th>product_id</th>\n",
       "      <th>seller_id</th>\n",
       "      <th>shipping_limit_date</th>\n",
       "      <th>price</th>\n",
       "      <th>freight_value</th>\n",
       "      <th>payment_sequential</th>\n",
       "      <th>payment_type</th>\n",
       "      <th>payment_installments</th>\n",
       "      <th>...</th>\n",
       "      <th>order_status</th>\n",
       "      <th>order_purchase_timestamp</th>\n",
       "      <th>order_approved_at</th>\n",
       "      <th>order_delivered_carrier_date</th>\n",
       "      <th>order_delivered_customer_date</th>\n",
       "      <th>order_estimated_delivery_date</th>\n",
       "      <th>customer_unique_id</th>\n",
       "      <th>customer_zip_code_prefix</th>\n",
       "      <th>customer_city</th>\n",
       "      <th>customer_state</th>\n",
       "    </tr>\n",
       "  </thead>\n",
       "  <tbody>\n",
       "    <tr>\n",
       "      <th>0</th>\n",
       "      <td>00010242fe8c5a6d1ba2dd792cb16214</td>\n",
       "      <td>1</td>\n",
       "      <td>4244733e06e7ecb4970a6e2683c13e61</td>\n",
       "      <td>48436dade18ac8b2bce089ec2a041202</td>\n",
       "      <td>2017-09-19 09:45:35</td>\n",
       "      <td>58.90</td>\n",
       "      <td>13.29</td>\n",
       "      <td>1</td>\n",
       "      <td>credit_card</td>\n",
       "      <td>2</td>\n",
       "      <td>...</td>\n",
       "      <td>delivered</td>\n",
       "      <td>2017-09-13 08:59:02</td>\n",
       "      <td>2017-09-13 09:45:35</td>\n",
       "      <td>2017-09-19 18:34:16</td>\n",
       "      <td>2017-09-20 23:43:48</td>\n",
       "      <td>2017-09-29 00:00:00</td>\n",
       "      <td>871766c5855e863f6eccc05f988b23cb</td>\n",
       "      <td>28013</td>\n",
       "      <td>campos dos goytacazes</td>\n",
       "      <td>RJ</td>\n",
       "    </tr>\n",
       "    <tr>\n",
       "      <th>1</th>\n",
       "      <td>130898c0987d1801452a8ed92a670612</td>\n",
       "      <td>1</td>\n",
       "      <td>4244733e06e7ecb4970a6e2683c13e61</td>\n",
       "      <td>48436dade18ac8b2bce089ec2a041202</td>\n",
       "      <td>2017-07-05 02:44:11</td>\n",
       "      <td>55.90</td>\n",
       "      <td>17.96</td>\n",
       "      <td>1</td>\n",
       "      <td>boleto</td>\n",
       "      <td>1</td>\n",
       "      <td>...</td>\n",
       "      <td>delivered</td>\n",
       "      <td>2017-06-28 11:52:20</td>\n",
       "      <td>2017-06-29 02:44:11</td>\n",
       "      <td>2017-07-05 12:00:33</td>\n",
       "      <td>2017-07-13 20:39:29</td>\n",
       "      <td>2017-07-26 00:00:00</td>\n",
       "      <td>0fb8e3eab2d3e79d92bb3fffbb97f188</td>\n",
       "      <td>75800</td>\n",
       "      <td>jatai</td>\n",
       "      <td>GO</td>\n",
       "    </tr>\n",
       "    <tr>\n",
       "      <th>2</th>\n",
       "      <td>532ed5e14e24ae1f0d735b91524b98b9</td>\n",
       "      <td>1</td>\n",
       "      <td>4244733e06e7ecb4970a6e2683c13e61</td>\n",
       "      <td>48436dade18ac8b2bce089ec2a041202</td>\n",
       "      <td>2018-05-23 10:56:25</td>\n",
       "      <td>64.90</td>\n",
       "      <td>18.33</td>\n",
       "      <td>1</td>\n",
       "      <td>credit_card</td>\n",
       "      <td>2</td>\n",
       "      <td>...</td>\n",
       "      <td>delivered</td>\n",
       "      <td>2018-05-18 10:25:53</td>\n",
       "      <td>2018-05-18 12:31:43</td>\n",
       "      <td>2018-05-23 14:05:00</td>\n",
       "      <td>2018-06-04 18:34:26</td>\n",
       "      <td>2018-06-07 00:00:00</td>\n",
       "      <td>3419052c8c6b45daf79c1e426f9e9bcb</td>\n",
       "      <td>30720</td>\n",
       "      <td>belo horizonte</td>\n",
       "      <td>MG</td>\n",
       "    </tr>\n",
       "    <tr>\n",
       "      <th>3</th>\n",
       "      <td>6f8c31653edb8c83e1a739408b5ff750</td>\n",
       "      <td>1</td>\n",
       "      <td>4244733e06e7ecb4970a6e2683c13e61</td>\n",
       "      <td>48436dade18ac8b2bce089ec2a041202</td>\n",
       "      <td>2017-08-07 18:55:08</td>\n",
       "      <td>58.90</td>\n",
       "      <td>16.17</td>\n",
       "      <td>1</td>\n",
       "      <td>credit_card</td>\n",
       "      <td>3</td>\n",
       "      <td>...</td>\n",
       "      <td>delivered</td>\n",
       "      <td>2017-08-01 18:38:42</td>\n",
       "      <td>2017-08-01 18:55:08</td>\n",
       "      <td>2017-08-02 19:07:36</td>\n",
       "      <td>2017-08-09 21:26:33</td>\n",
       "      <td>2017-08-25 00:00:00</td>\n",
       "      <td>e7c828d22c0682c1565252deefbe334d</td>\n",
       "      <td>83070</td>\n",
       "      <td>sao jose dos pinhais</td>\n",
       "      <td>PR</td>\n",
       "    </tr>\n",
       "    <tr>\n",
       "      <th>4</th>\n",
       "      <td>7d19f4ef4d04461989632411b7e588b9</td>\n",
       "      <td>1</td>\n",
       "      <td>4244733e06e7ecb4970a6e2683c13e61</td>\n",
       "      <td>48436dade18ac8b2bce089ec2a041202</td>\n",
       "      <td>2017-08-16 22:05:11</td>\n",
       "      <td>58.90</td>\n",
       "      <td>13.29</td>\n",
       "      <td>1</td>\n",
       "      <td>credit_card</td>\n",
       "      <td>4</td>\n",
       "      <td>...</td>\n",
       "      <td>delivered</td>\n",
       "      <td>2017-08-10 21:48:40</td>\n",
       "      <td>2017-08-10 22:05:11</td>\n",
       "      <td>2017-08-11 19:43:07</td>\n",
       "      <td>2017-08-24 20:04:21</td>\n",
       "      <td>2017-09-01 00:00:00</td>\n",
       "      <td>0bb98ba72dcc08e95f9d8cc434e9a2cc</td>\n",
       "      <td>36400</td>\n",
       "      <td>conselheiro lafaiete</td>\n",
       "      <td>MG</td>\n",
       "    </tr>\n",
       "    <tr>\n",
       "      <th>...</th>\n",
       "      <td>...</td>\n",
       "      <td>...</td>\n",
       "      <td>...</td>\n",
       "      <td>...</td>\n",
       "      <td>...</td>\n",
       "      <td>...</td>\n",
       "      <td>...</td>\n",
       "      <td>...</td>\n",
       "      <td>...</td>\n",
       "      <td>...</td>\n",
       "      <td>...</td>\n",
       "      <td>...</td>\n",
       "      <td>...</td>\n",
       "      <td>...</td>\n",
       "      <td>...</td>\n",
       "      <td>...</td>\n",
       "      <td>...</td>\n",
       "      <td>...</td>\n",
       "      <td>...</td>\n",
       "      <td>...</td>\n",
       "      <td>...</td>\n",
       "    </tr>\n",
       "    <tr>\n",
       "      <th>117324</th>\n",
       "      <td>fd607d0a02cb276bc764a15f80f0423f</td>\n",
       "      <td>2</td>\n",
       "      <td>02ad78835ec3f72e750d1dfa6a7e11b3</td>\n",
       "      <td>2a73cba571d90c694b7caca072ccf6ce</td>\n",
       "      <td>2018-08-02 02:24:15</td>\n",
       "      <td>171.39</td>\n",
       "      <td>19.35</td>\n",
       "      <td>1</td>\n",
       "      <td>boleto</td>\n",
       "      <td>1</td>\n",
       "      <td>...</td>\n",
       "      <td>delivered</td>\n",
       "      <td>2018-07-26 09:13:04</td>\n",
       "      <td>2018-07-27 02:24:15</td>\n",
       "      <td>2018-08-07 09:28:00</td>\n",
       "      <td>2018-08-16 17:12:37</td>\n",
       "      <td>2018-08-16 00:00:00</td>\n",
       "      <td>c13401002a5f9b60befb4c720de50be0</td>\n",
       "      <td>41820</td>\n",
       "      <td>salvador</td>\n",
       "      <td>BA</td>\n",
       "    </tr>\n",
       "    <tr>\n",
       "      <th>117325</th>\n",
       "      <td>fdaf98feac227eb978d8f33f36e0231d</td>\n",
       "      <td>1</td>\n",
       "      <td>f739e9151702508b18f796c53005e5e9</td>\n",
       "      <td>d1aa1ec0839dcab73a6161130eb1f94a</td>\n",
       "      <td>2017-04-27 05:10:28</td>\n",
       "      <td>119.90</td>\n",
       "      <td>16.14</td>\n",
       "      <td>1</td>\n",
       "      <td>boleto</td>\n",
       "      <td>1</td>\n",
       "      <td>...</td>\n",
       "      <td>delivered</td>\n",
       "      <td>2017-04-19 10:20:51</td>\n",
       "      <td>2017-04-21 05:10:28</td>\n",
       "      <td>2017-05-04 15:06:24</td>\n",
       "      <td>2017-05-24 10:52:43</td>\n",
       "      <td>2017-05-22 00:00:00</td>\n",
       "      <td>3d50a44231c2a153219cef76ee3e445d</td>\n",
       "      <td>22793</td>\n",
       "      <td>rio de janeiro</td>\n",
       "      <td>RJ</td>\n",
       "    </tr>\n",
       "    <tr>\n",
       "      <th>117326</th>\n",
       "      <td>fe68b52db13993f58175fa589125d345</td>\n",
       "      <td>1</td>\n",
       "      <td>f4135cbdece8245560f7be179533797a</td>\n",
       "      <td>3fefda3299e6dfaea3466ef346a3571a</td>\n",
       "      <td>2017-08-17 02:55:27</td>\n",
       "      <td>209.00</td>\n",
       "      <td>16.21</td>\n",
       "      <td>1</td>\n",
       "      <td>boleto</td>\n",
       "      <td>1</td>\n",
       "      <td>...</td>\n",
       "      <td>delivered</td>\n",
       "      <td>2017-08-11 10:15:22</td>\n",
       "      <td>2017-08-12 02:55:27</td>\n",
       "      <td>2017-08-14 22:03:19</td>\n",
       "      <td>2017-08-17 17:47:55</td>\n",
       "      <td>2017-09-04 00:00:00</td>\n",
       "      <td>52a953541861bbb4b79b39df24e00243</td>\n",
       "      <td>13485</td>\n",
       "      <td>limeira</td>\n",
       "      <td>SP</td>\n",
       "    </tr>\n",
       "    <tr>\n",
       "      <th>117327</th>\n",
       "      <td>ff701a7c869ad21de22a6994237c8a00</td>\n",
       "      <td>1</td>\n",
       "      <td>5ff4076c0f01eeba4f728c9e3fa2653c</td>\n",
       "      <td>3e35a8bb43569389d3cebef0ce820f69</td>\n",
       "      <td>2018-04-18 20:10:33</td>\n",
       "      <td>27.90</td>\n",
       "      <td>14.44</td>\n",
       "      <td>1</td>\n",
       "      <td>credit_card</td>\n",
       "      <td>1</td>\n",
       "      <td>...</td>\n",
       "      <td>delivered</td>\n",
       "      <td>2018-04-12 19:47:40</td>\n",
       "      <td>2018-04-12 20:10:33</td>\n",
       "      <td>2018-04-18 00:41:29</td>\n",
       "      <td>2018-04-20 17:48:39</td>\n",
       "      <td>2018-04-30 00:00:00</td>\n",
       "      <td>ddb2249e0316d365ceae561c0f011bce</td>\n",
       "      <td>12280</td>\n",
       "      <td>cacapava</td>\n",
       "      <td>SP</td>\n",
       "    </tr>\n",
       "    <tr>\n",
       "      <th>117328</th>\n",
       "      <td>ff701a7c869ad21de22a6994237c8a00</td>\n",
       "      <td>2</td>\n",
       "      <td>5ff4076c0f01eeba4f728c9e3fa2653c</td>\n",
       "      <td>3e35a8bb43569389d3cebef0ce820f69</td>\n",
       "      <td>2018-04-18 20:10:33</td>\n",
       "      <td>27.90</td>\n",
       "      <td>14.44</td>\n",
       "      <td>1</td>\n",
       "      <td>credit_card</td>\n",
       "      <td>1</td>\n",
       "      <td>...</td>\n",
       "      <td>delivered</td>\n",
       "      <td>2018-04-12 19:47:40</td>\n",
       "      <td>2018-04-12 20:10:33</td>\n",
       "      <td>2018-04-18 00:41:29</td>\n",
       "      <td>2018-04-20 17:48:39</td>\n",
       "      <td>2018-04-30 00:00:00</td>\n",
       "      <td>ddb2249e0316d365ceae561c0f011bce</td>\n",
       "      <td>12280</td>\n",
       "      <td>cacapava</td>\n",
       "      <td>SP</td>\n",
       "    </tr>\n",
       "  </tbody>\n",
       "</table>\n",
       "<p>117329 rows × 39 columns</p>\n",
       "</div>"
      ],
      "text/plain": [
       "                                order_id  order_item_id  \\\n",
       "0       00010242fe8c5a6d1ba2dd792cb16214              1   \n",
       "1       130898c0987d1801452a8ed92a670612              1   \n",
       "2       532ed5e14e24ae1f0d735b91524b98b9              1   \n",
       "3       6f8c31653edb8c83e1a739408b5ff750              1   \n",
       "4       7d19f4ef4d04461989632411b7e588b9              1   \n",
       "...                                  ...            ...   \n",
       "117324  fd607d0a02cb276bc764a15f80f0423f              2   \n",
       "117325  fdaf98feac227eb978d8f33f36e0231d              1   \n",
       "117326  fe68b52db13993f58175fa589125d345              1   \n",
       "117327  ff701a7c869ad21de22a6994237c8a00              1   \n",
       "117328  ff701a7c869ad21de22a6994237c8a00              2   \n",
       "\n",
       "                              product_id                         seller_id  \\\n",
       "0       4244733e06e7ecb4970a6e2683c13e61  48436dade18ac8b2bce089ec2a041202   \n",
       "1       4244733e06e7ecb4970a6e2683c13e61  48436dade18ac8b2bce089ec2a041202   \n",
       "2       4244733e06e7ecb4970a6e2683c13e61  48436dade18ac8b2bce089ec2a041202   \n",
       "3       4244733e06e7ecb4970a6e2683c13e61  48436dade18ac8b2bce089ec2a041202   \n",
       "4       4244733e06e7ecb4970a6e2683c13e61  48436dade18ac8b2bce089ec2a041202   \n",
       "...                                  ...                               ...   \n",
       "117324  02ad78835ec3f72e750d1dfa6a7e11b3  2a73cba571d90c694b7caca072ccf6ce   \n",
       "117325  f739e9151702508b18f796c53005e5e9  d1aa1ec0839dcab73a6161130eb1f94a   \n",
       "117326  f4135cbdece8245560f7be179533797a  3fefda3299e6dfaea3466ef346a3571a   \n",
       "117327  5ff4076c0f01eeba4f728c9e3fa2653c  3e35a8bb43569389d3cebef0ce820f69   \n",
       "117328  5ff4076c0f01eeba4f728c9e3fa2653c  3e35a8bb43569389d3cebef0ce820f69   \n",
       "\n",
       "        shipping_limit_date   price  freight_value  payment_sequential  \\\n",
       "0       2017-09-19 09:45:35   58.90          13.29                   1   \n",
       "1       2017-07-05 02:44:11   55.90          17.96                   1   \n",
       "2       2018-05-23 10:56:25   64.90          18.33                   1   \n",
       "3       2017-08-07 18:55:08   58.90          16.17                   1   \n",
       "4       2017-08-16 22:05:11   58.90          13.29                   1   \n",
       "...                     ...     ...            ...                 ...   \n",
       "117324  2018-08-02 02:24:15  171.39          19.35                   1   \n",
       "117325  2017-04-27 05:10:28  119.90          16.14                   1   \n",
       "117326  2017-08-17 02:55:27  209.00          16.21                   1   \n",
       "117327  2018-04-18 20:10:33   27.90          14.44                   1   \n",
       "117328  2018-04-18 20:10:33   27.90          14.44                   1   \n",
       "\n",
       "       payment_type  payment_installments  ...  order_status  \\\n",
       "0       credit_card                     2  ...     delivered   \n",
       "1            boleto                     1  ...     delivered   \n",
       "2       credit_card                     2  ...     delivered   \n",
       "3       credit_card                     3  ...     delivered   \n",
       "4       credit_card                     4  ...     delivered   \n",
       "...             ...                   ...  ...           ...   \n",
       "117324       boleto                     1  ...     delivered   \n",
       "117325       boleto                     1  ...     delivered   \n",
       "117326       boleto                     1  ...     delivered   \n",
       "117327  credit_card                     1  ...     delivered   \n",
       "117328  credit_card                     1  ...     delivered   \n",
       "\n",
       "        order_purchase_timestamp    order_approved_at  \\\n",
       "0            2017-09-13 08:59:02  2017-09-13 09:45:35   \n",
       "1            2017-06-28 11:52:20  2017-06-29 02:44:11   \n",
       "2            2018-05-18 10:25:53  2018-05-18 12:31:43   \n",
       "3            2017-08-01 18:38:42  2017-08-01 18:55:08   \n",
       "4            2017-08-10 21:48:40  2017-08-10 22:05:11   \n",
       "...                          ...                  ...   \n",
       "117324       2018-07-26 09:13:04  2018-07-27 02:24:15   \n",
       "117325       2017-04-19 10:20:51  2017-04-21 05:10:28   \n",
       "117326       2017-08-11 10:15:22  2017-08-12 02:55:27   \n",
       "117327       2018-04-12 19:47:40  2018-04-12 20:10:33   \n",
       "117328       2018-04-12 19:47:40  2018-04-12 20:10:33   \n",
       "\n",
       "       order_delivered_carrier_date order_delivered_customer_date  \\\n",
       "0               2017-09-19 18:34:16           2017-09-20 23:43:48   \n",
       "1               2017-07-05 12:00:33           2017-07-13 20:39:29   \n",
       "2               2018-05-23 14:05:00           2018-06-04 18:34:26   \n",
       "3               2017-08-02 19:07:36           2017-08-09 21:26:33   \n",
       "4               2017-08-11 19:43:07           2017-08-24 20:04:21   \n",
       "...                             ...                           ...   \n",
       "117324          2018-08-07 09:28:00           2018-08-16 17:12:37   \n",
       "117325          2017-05-04 15:06:24           2017-05-24 10:52:43   \n",
       "117326          2017-08-14 22:03:19           2017-08-17 17:47:55   \n",
       "117327          2018-04-18 00:41:29           2018-04-20 17:48:39   \n",
       "117328          2018-04-18 00:41:29           2018-04-20 17:48:39   \n",
       "\n",
       "        order_estimated_delivery_date                customer_unique_id  \\\n",
       "0                 2017-09-29 00:00:00  871766c5855e863f6eccc05f988b23cb   \n",
       "1                 2017-07-26 00:00:00  0fb8e3eab2d3e79d92bb3fffbb97f188   \n",
       "2                 2018-06-07 00:00:00  3419052c8c6b45daf79c1e426f9e9bcb   \n",
       "3                 2017-08-25 00:00:00  e7c828d22c0682c1565252deefbe334d   \n",
       "4                 2017-09-01 00:00:00  0bb98ba72dcc08e95f9d8cc434e9a2cc   \n",
       "...                               ...                               ...   \n",
       "117324            2018-08-16 00:00:00  c13401002a5f9b60befb4c720de50be0   \n",
       "117325            2017-05-22 00:00:00  3d50a44231c2a153219cef76ee3e445d   \n",
       "117326            2017-09-04 00:00:00  52a953541861bbb4b79b39df24e00243   \n",
       "117327            2018-04-30 00:00:00  ddb2249e0316d365ceae561c0f011bce   \n",
       "117328            2018-04-30 00:00:00  ddb2249e0316d365ceae561c0f011bce   \n",
       "\n",
       "        customer_zip_code_prefix          customer_city  customer_state  \n",
       "0                          28013  campos dos goytacazes              RJ  \n",
       "1                          75800                  jatai              GO  \n",
       "2                          30720         belo horizonte              MG  \n",
       "3                          83070   sao jose dos pinhais              PR  \n",
       "4                          36400   conselheiro lafaiete              MG  \n",
       "...                          ...                    ...             ...  \n",
       "117324                     41820               salvador              BA  \n",
       "117325                     22793         rio de janeiro              RJ  \n",
       "117326                     13485                limeira              SP  \n",
       "117327                     12280               cacapava              SP  \n",
       "117328                     12280               cacapava              SP  \n",
       "\n",
       "[117329 rows x 39 columns]"
      ]
     },
     "execution_count": 45,
     "metadata": {},
     "output_type": "execute_result"
    }
   ],
   "source": [
    "df = itens.merge(payments)\n",
    "df = df.merge(sellers)\n",
    "df = df.merge(products)\n",
    "df = df.merge(reviews)\n",
    "df = df.merge(orders)\n",
    "df = df.merge(costumers)\n",
    "df"
   ]
  },
  {
   "cell_type": "markdown",
   "metadata": {},
   "source": [
    "----------"
   ]
  },
  {
   "cell_type": "markdown",
   "metadata": {},
   "source": [
    "# Análise exploratória"
   ]
  },
  {
   "cell_type": "markdown",
   "metadata": {},
   "source": [
    "## Review score dos produtos\n",
    "Aqui, iremos explorar as 5 maiores e 5 menores médias de review score de produtos. Para as tabelas, considerou-se apenas produtos com 30 ou mais unidades vendidas."
   ]
  },
  {
   "cell_type": "code",
   "execution_count": 46,
   "metadata": {},
   "outputs": [
    {
     "data": {
      "text/plain": [
       "product_id\n",
       "0554911df28fda9fd668ce5ba5949695    5.000000\n",
       "ebf9bc6cd600eadd681384e3116fda85    5.000000\n",
       "8d37ee446981d3790967d0268d6cfc81    4.866667\n",
       "11250b0d4b709fee92441c5f34122aed    4.863636\n",
       "73326828aa5efe1ba096223de496f596    4.839286\n",
       "Name: review_score, dtype: float64"
      ]
     },
     "execution_count": 46,
     "metadata": {},
     "output_type": "execute_result"
    }
   ],
   "source": [
    "df.groupby('product_id').filter(lambda x: len(x) >= 30).groupby('product_id')['review_score'].mean().sort_values(ascending=False).head(5)"
   ]
  },
  {
   "cell_type": "code",
   "execution_count": 47,
   "metadata": {},
   "outputs": [
    {
     "data": {
      "text/plain": [
       "product_id\n",
       "cd46a885543f0e169a49f1eb25c04e43    1.833333\n",
       "ee3d532c8a438679776d222e997606b3    1.875000\n",
       "b1d207586fca400a2370d50a9ba1da98    1.897959\n",
       "89b121bee266dcd25688a1ba72eefb61    2.382353\n",
       "25c38557cf793876c5abdd5931f922db    2.581395\n",
       "Name: review_score, dtype: float64"
      ]
     },
     "execution_count": 47,
     "metadata": {},
     "output_type": "execute_result"
    }
   ],
   "source": [
    "df.groupby('product_id').filter(lambda x: len(x) >= 30).groupby('product_id')['review_score'].mean().sort_values(ascending=True).head(5)"
   ]
  },
  {
   "cell_type": "code",
   "execution_count": 52,
   "metadata": {},
   "outputs": [
    {
     "data": {
      "text/plain": [
       "<Axes: xlabel='review_score', ylabel='Count'>"
      ]
     },
     "execution_count": 52,
     "metadata": {},
     "output_type": "execute_result"
    },
    {
     "data": {
      "image/png": "[encoded data removed]",
      "text/plain": [
       "<Figure size 640x480 with 1 Axes>"
      ]
     },
     "metadata": {},
     "output_type": "display_data"
    }
   ],
   "source": [
    "rsp = df.groupby('product_id').filter(lambda x: len(x) >= 5).groupby('product_id')['review_score'].mean()\n",
    "sns.histplot(rsp)"
   ]
  },
  {
   "cell_type": "markdown",
   "metadata": {},
   "source": [
    "Daqui, vemos pelo histograma que a distribuição das notas dos produtos (considerando apenas produtos com 5 ou mais unidades vendidas) lembra uma Beta, com parâmetro de forma $\\alpha$ superior ao parâmetro de escala $\\beta$ (caracterizando a assimetria à direita)."
   ]
  },
  {
   "cell_type": "markdown",
   "metadata": {},
   "source": [
    "## Review score de vendedores\n",
    "Aqui, iremos explorar as 5 maiores e 5 menores médias de review score por vendedores. Para as tabelas, considerou-se apenas vendedores com 30 ou mais vendas."
   ]
  },
  {
   "cell_type": "code",
   "execution_count": 48,
   "metadata": {},
   "outputs": [
    {
     "data": {
      "text/plain": [
       "seller_id\n",
       "48efc9d94a9834137efd9ea76b065a38    5.000000\n",
       "b1fecf4da1fa2689bccffa0121953643    4.966667\n",
       "334cab711dee080b079fa5779b584783    4.933333\n",
       "3d0cd21d41671c46f82cd11176bf7277    4.903226\n",
       "02f5837340d7eb4f653d676c7256523a    4.833333\n",
       "Name: review_score, dtype: float64"
      ]
     },
     "execution_count": 48,
     "metadata": {},
     "output_type": "execute_result"
    }
   ],
   "source": [
    "df.groupby('seller_id').filter(lambda x: len(x) >= 30).groupby('seller_id')['review_score'].mean().sort_values(ascending=False).head(5)"
   ]
  },
  {
   "cell_type": "code",
   "execution_count": 49,
   "metadata": {},
   "outputs": [
    {
     "data": {
      "text/plain": [
       "seller_id\n",
       "06532f10282704ef4c69168b914b77be    1.783784\n",
       "1ca7077d890b907f89be8c954a02686a    2.189781\n",
       "2709af9587499e95e803a6498a5a56e9    2.617021\n",
       "ec4608a1f76453166bb312b2968aeaf4    2.694444\n",
       "2eb70248d66e0e3ef83659f71b244378    2.716279\n",
       "Name: review_score, dtype: float64"
      ]
     },
     "execution_count": 49,
     "metadata": {},
     "output_type": "execute_result"
    }
   ],
   "source": [
    "df.groupby('seller_id').filter(lambda x: len(x) >= 30).groupby('seller_id')['review_score'].mean().sort_values(ascending=True).head(5)"
   ]
  },
  {
   "cell_type": "code",
   "execution_count": 50,
   "metadata": {},
   "outputs": [
    {
     "data": {
      "text/plain": [
       "<Axes: xlabel='review_score', ylabel='Count'>"
      ]
     },
     "execution_count": 50,
     "metadata": {},
     "output_type": "execute_result"
    },
    {
     "data": {
      "image/png": "[encoded data removed]",
      "text/plain": [
       "<Figure size 640x480 with 1 Axes>"
      ]
     },
     "metadata": {},
     "output_type": "display_data"
    }
   ],
   "source": [
    "rss = df.groupby('seller_id').filter(lambda x: len(x) >= 5).groupby('seller_id')['review_score'].mean()\n",
    "sns.histplot(rss)"
   ]
  },
  {
   "cell_type": "markdown",
   "metadata": {},
   "source": [
    "Daqui, vemos pelo histograma que a distribuição das notas dos produtos por vendedor (considerando apenas vendedores com 5 ou mais vendas), da mesma forma que a distribuição das notas dos produtos, lembra uma Beta, com parâmetro de forma $\\alpha$ superior ao parâmetro de escala $\\beta$ (caracterizando a assimetria à direita)."
   ]
  },
  {
   "cell_type": "markdown",
   "metadata": {},
   "source": [
    "## Frequência absoluta dos review scores\n",
    "Como os review scores estão em escala Likert 1 a 5; ou seja, o consumidor teve a opção de dar nota 1, 2, 3, 4 ou 5 para a compra, podemos quantificar a quantidade de vezes que cada uma dessas notas aparece nos dados."
   ]
  },
  {
   "cell_type": "code",
   "execution_count": 51,
   "metadata": {},
   "outputs": [
    {
     "data": {
      "text/plain": [
       "<Axes: xlabel='review_score', ylabel='count'>"
      ]
     },
     "execution_count": 51,
     "metadata": {},
     "output_type": "execute_result"
    },
    {
     "data": {
      "image/png": "[encoded data removed]",
      "text/plain": [
       "<Figure size 640x480 with 1 Axes>"
      ]
     },
     "metadata": {},
     "output_type": "display_data"
    }
   ],
   "source": [
    "sns.countplot(x='review_score', data=df)"
   ]
  },
  {
   "cell_type": "code",
   "execution_count": 54,
   "metadata": {},
   "outputs": [
    {
     "data": {
      "text/plain": [
       "review_score\n",
       "5    66264\n",
       "4    22286\n",
       "1    14854\n",
       "3     9840\n",
       "2     4085\n",
       "Name: count, dtype: int64"
      ]
     },
     "execution_count": 54,
     "metadata": {},
     "output_type": "execute_result"
    }
   ],
   "source": [
    "df['review_score'].value_counts()"
   ]
  },
  {
   "cell_type": "code",
   "execution_count": 55,
   "metadata": {},
   "outputs": [],
   "source": [
    "df['review_scoremax'] = df['review_score'].apply(lambda x: '1' if x > 4 else '0')"
   ]
  },
  {
   "cell_type": "code",
   "execution_count": 57,
   "metadata": {},
   "outputs": [
    {
     "data": {
      "text/plain": [
       "review_scoremax\n",
       "1    66264\n",
       "0    51065\n",
       "Name: count, dtype: int64"
      ]
     },
     "execution_count": 57,
     "metadata": {},
     "output_type": "execute_result"
    }
   ],
   "source": [
    "df['review_scoremax'].value_counts()"
   ]
  },
  {
   "cell_type": "markdown",
   "metadata": {},
   "source": [
    "Daqui, vemos uma maioria absoluta de notas máximas (5), superior inclusive que todas as outras notas agregadas.\n",
    "Com esta motivação, iremos investigar se, a partir do comentário (review_comment_message), podemos inferir algo sobre a nota ter sido máxima ou não na próxima seção, com uso de aprendizado estatístico (inteligência artificial)."
   ]
  },
  {
   "cell_type": "markdown",
   "metadata": {},
   "source": [
    "----------------------------------------------------------"
   ]
  },
  {
   "cell_type": "markdown",
   "metadata": {},
   "source": [
    "## Verificação dos dados para processamento de linguagem natural"
   ]
  },
  {
   "cell_type": "code",
   "execution_count": 5,
   "metadata": {},
   "outputs": [],
   "source": [
    "reviews['review_score2'] = reviews['review_score'].apply(lambda x: '1' if x > 4 else '0')"
   ]
  },
  {
   "cell_type": "code",
   "execution_count": 6,
   "metadata": {},
   "outputs": [
    {
     "data": {
      "text/plain": [
       "review_score2\n",
       "1    57328\n",
       "0    41896\n",
       "Name: count, dtype: int64"
      ]
     },
     "execution_count": 6,
     "metadata": {},
     "output_type": "execute_result"
    }
   ],
   "source": [
    "reviews['review_score2'].value_counts()"
   ]
  },
  {
   "cell_type": "code",
   "execution_count": 7,
   "metadata": {},
   "outputs": [
    {
     "data": {
      "text/html": [
       "<div>\n",
       "<style scoped>\n",
       "    .dataframe tbody tr th:only-of-type {\n",
       "        vertical-align: middle;\n",
       "    }\n",
       "\n",
       "    .dataframe tbody tr th {\n",
       "        vertical-align: top;\n",
       "    }\n",
       "\n",
       "    .dataframe thead th {\n",
       "        text-align: right;\n",
       "    }\n",
       "</style>\n",
       "<table border=\"1\" class=\"dataframe\">\n",
       "  <thead>\n",
       "    <tr style=\"text-align: right;\">\n",
       "      <th></th>\n",
       "      <th>texto</th>\n",
       "      <th>rótulo</th>\n",
       "    </tr>\n",
       "  </thead>\n",
       "  <tbody>\n",
       "    <tr>\n",
       "      <th>0</th>\n",
       "      <td>NaN</td>\n",
       "      <td>0</td>\n",
       "    </tr>\n",
       "    <tr>\n",
       "      <th>1</th>\n",
       "      <td>NaN</td>\n",
       "      <td>1</td>\n",
       "    </tr>\n",
       "    <tr>\n",
       "      <th>2</th>\n",
       "      <td>NaN</td>\n",
       "      <td>1</td>\n",
       "    </tr>\n",
       "    <tr>\n",
       "      <th>3</th>\n",
       "      <td>Recebi bem antes do prazo estipulado.</td>\n",
       "      <td>1</td>\n",
       "    </tr>\n",
       "    <tr>\n",
       "      <th>4</th>\n",
       "      <td>Parabéns lojas lannister adorei comprar pela I...</td>\n",
       "      <td>1</td>\n",
       "    </tr>\n",
       "    <tr>\n",
       "      <th>...</th>\n",
       "      <td>...</td>\n",
       "      <td>...</td>\n",
       "    </tr>\n",
       "    <tr>\n",
       "      <th>99219</th>\n",
       "      <td>NaN</td>\n",
       "      <td>1</td>\n",
       "    </tr>\n",
       "    <tr>\n",
       "      <th>99220</th>\n",
       "      <td>NaN</td>\n",
       "      <td>1</td>\n",
       "    </tr>\n",
       "    <tr>\n",
       "      <th>99221</th>\n",
       "      <td>Excelente mochila, entrega super rápida. Super...</td>\n",
       "      <td>1</td>\n",
       "    </tr>\n",
       "    <tr>\n",
       "      <th>99222</th>\n",
       "      <td>NaN</td>\n",
       "      <td>0</td>\n",
       "    </tr>\n",
       "    <tr>\n",
       "      <th>99223</th>\n",
       "      <td>meu produto chegou e ja tenho que devolver, po...</td>\n",
       "      <td>0</td>\n",
       "    </tr>\n",
       "  </tbody>\n",
       "</table>\n",
       "<p>99224 rows × 2 columns</p>\n",
       "</div>"
      ],
      "text/plain": [
       "                                                   texto rótulo\n",
       "0                                                    NaN      0\n",
       "1                                                    NaN      1\n",
       "2                                                    NaN      1\n",
       "3                  Recebi bem antes do prazo estipulado.      1\n",
       "4      Parabéns lojas lannister adorei comprar pela I...      1\n",
       "...                                                  ...    ...\n",
       "99219                                                NaN      1\n",
       "99220                                                NaN      1\n",
       "99221  Excelente mochila, entrega super rápida. Super...      1\n",
       "99222                                                NaN      0\n",
       "99223  meu produto chegou e ja tenho que devolver, po...      0\n",
       "\n",
       "[99224 rows x 2 columns]"
      ]
     },
     "execution_count": 7,
     "metadata": {},
     "output_type": "execute_result"
    }
   ],
   "source": [
    "dataset = reviews[['review_comment_message','review_score2']].rename(columns={'review_comment_message':'texto','review_score2':'rótulo'})\n",
    "dataset"
   ]
  },
  {
   "cell_type": "markdown",
   "metadata": {},
   "source": [
    "-----------"
   ]
  },
  {
   "cell_type": "markdown",
   "metadata": {},
   "source": [
    "## Definindo função para processamento de linguagem natural - Diversos algoritmos"
   ]
  },
  {
   "cell_type": "code",
   "execution_count": 8,
   "metadata": {},
   "outputs": [],
   "source": [
    "def NLP(dataset): # Input: Dataset inteiro: 2 colunas: texto + rótulo ; qual algoritmo usar\n",
    "\n",
    "    # Bloco 1: Processamento do texto\n",
    "    corpus = []\n",
    "    for i in range(0,dataset.shape[0]):\n",
    "        texto = re.sub('[^a-zA-Z]',' ',unidecode.unidecode(dataset['texto'][i]) )\n",
    "        texto = texto.lower()\n",
    "        texto = texto.split()\n",
    "        ps = PorterStemmer()\n",
    "        texto = [ps.stem(word) for word in texto if not word in set(stopwords.words('portuguese'))]\n",
    "        texto = ' '.join(texto)\n",
    "        corpus.append(texto)\n",
    "\n",
    "    # Bloco 2: Embedding do texto\n",
    "    # BoW\n",
    "    cv=CountVectorizer(max_features = 5000)\n",
    "    X=cv.fit_transform(corpus).toarray()\n",
    "    y=dataset.iloc[:,1].values\n",
    "\n",
    "    X_train, X_test, y_train, y_test = train_test_split(X, y, test_size = 0.30, random_state = 0)\n",
    "    le = LabelEncoder()\n",
    "    y_train = le.fit_transform(y_train)\n",
    "    y_test = le.fit_transform(y_test)\n",
    "\n",
    "    # Bloco 3 : Algorítmos de NLP\n",
    "    metricas = {}\n",
    "\n",
    "    model_RF = RandomForestClassifier(n_estimators = 400,criterion = \"entropy\",random_state = 0)\n",
    "    model_RF.fit(X_train,y_train)     \n",
    "    model_XGB = XGBClassifier(n_estimators = 400, max_depth = 2, learning_rate = 1, objective = 'binary:logistic')\n",
    "    model_XGB.fit(X_train, y_train)\n",
    "    model_GBC = GradientBoostingClassifier()\n",
    "    model_GBC.fit(X_train, y_train)\n",
    "    model_SVM = svm.SVC()\n",
    "    model_SVM.fit(X_train, y_train)\n",
    "    model_GNB = GaussianNB()\n",
    "    model_GNB.fit(X_train, y_train)\n",
    "    model_MNB = MultinomialNB()\n",
    "    model_MNB.fit(X_train, y_train)\n",
    "    model_CNB = ComplementNB()\n",
    "    model_CNB.fit(X_train, y_train)\n",
    "\n",
    "    # Bloco 4: Acumulador/organizador de resultados\n",
    "    metricas = {}\n",
    "\n",
    "    # Random Forest:\n",
    "    y_pred_RF = model_RF.predict(X_test)\n",
    "    metricas[\"Random Forest\"] = {\n",
    "        \"acurácia\": accuracy_score(y_test, y_pred_RF),\n",
    "        \"precisão\": precision_score(y_test, y_pred_RF),\n",
    "        \"f1 score\": f1_score(y_test, y_pred_RF)\n",
    "    }\n",
    "\n",
    "    # XGBoost:\n",
    "    y_pred_XGB = model_XGB.predict(X_test)\n",
    "    metricas[\"XGBoost\"] = {\n",
    "        \"acurácia\": accuracy_score(y_test, y_pred_XGB),\n",
    "        \"precisão\": precision_score(y_test, y_pred_XGB),\n",
    "        \"f1 score\": f1_score(y_test, y_pred_XGB)\n",
    "    }\n",
    "\n",
    "    y_pred_gbc = model_GBC.predict(X_test)\n",
    "    metricas[\"Gradient Boosting Classifier\"] = {\n",
    "        \"acurácia\": accuracy_score(y_test, y_pred_gbc),\n",
    "        \"precisão\": precision_score(y_test, y_pred_gbc),\n",
    "        \"f1 score\": f1_score(y_test, y_pred_gbc)\n",
    "    }\n",
    "\n",
    "    # SVM:\n",
    "    y_pred_svm = model_SVM.predict(X_test)\n",
    "    metricas[\"SVM\"] = {\n",
    "        \"acurácia\": accuracy_score(y_test, y_pred_svm),\n",
    "        \"precisão\": precision_score(y_test, y_pred_svm),\n",
    "        \"f1 score\": f1_score(y_test, y_pred_svm)\n",
    "    }\n",
    "\n",
    "    # Naive Bayes Gaussian:\n",
    "    y_pred_GNB = model_GNB.predict(X_test)\n",
    "    metricas[\"Naive Bayes Gaussian\"] = {\n",
    "        \"acurácia\": accuracy_score(y_test, y_pred_GNB),\n",
    "        \"precisão\": precision_score(y_test, y_pred_GNB),\n",
    "        \"f1 score\": f1_score(y_test, y_pred_GNB)\n",
    "    }\n",
    "\n",
    "    # Naive Bayes Multinomial:\n",
    "    y_pred_MNB = model_MNB.predict(X_test)\n",
    "    metricas[\"Naive Bayes Multinomial\"] = {\n",
    "        \"acurácia\": accuracy_score(y_test, y_pred_MNB),\n",
    "        \"precisão\": precision_score(y_test, y_pred_MNB),\n",
    "        \"f1 score\": f1_score(y_test, y_pred_MNB)\n",
    "    }\n",
    "\n",
    "    # Naive Bayes Complement:\n",
    "    y_pred_CNB = model_CNB.predict(X_test)\n",
    "    metricas[\"Naive Bayes Complement\"] = {\n",
    "        \"acurácia\": accuracy_score(y_test, y_pred_CNB),\n",
    "        \"precisão\": precision_score(y_test, y_pred_CNB),\n",
    "        \"f1 score\": f1_score(y_test, y_pred_CNB)\n",
    "    }\n",
    "\n",
    "    # Bloco 5: Saída\n",
    "    # Crie o DataFrame a partir do dicionário de métricas\n",
    "    df = pd.DataFrame(metricas)\n",
    "\n",
    "    # Transponha o DataFrame para que os nomes dos algoritmos sejam nas linhas e as métricas nas colunas\n",
    "    df = df.transpose()\n",
    "\n",
    "    # Imprima o DataFrame como uma tabela\n",
    "    print(df)"
   ]
  },
  {
   "cell_type": "markdown",
   "metadata": {},
   "source": [
    "últimos ajustes nos dados..."
   ]
  },
  {
   "cell_type": "code",
   "execution_count": 9,
   "metadata": {},
   "outputs": [],
   "source": [
    "dataset = dataset.dropna(subset=['texto'])\n",
    "dataset.index = range(len(dataset))"
   ]
  },
  {
   "cell_type": "markdown",
   "metadata": {},
   "source": [
    "Testando a função para um pedaço dos dados apenas"
   ]
  },
  {
   "cell_type": "code",
   "execution_count": 10,
   "metadata": {},
   "outputs": [
    {
     "name": "stdout",
     "output_type": "stream",
     "text": [
      "                              acurácia  precisão  f1 score\n",
      "Random Forest                 0.444444  0.444444  0.615385\n",
      "XGBoost                       0.555556  0.500000  0.666667\n",
      "Gradient Boosting Classifier  0.444444  0.444444  0.615385\n",
      "SVM                           0.444444  0.444444  0.615385\n",
      "Naive Bayes Gaussian          0.444444  0.400000  0.444444\n",
      "Naive Bayes Multinomial       0.555556  0.500000  0.666667\n",
      "Naive Bayes Complement        0.666667  0.666667  0.571429\n"
     ]
    }
   ],
   "source": [
    "NLP(dataset.head(30))"
   ]
  },
  {
   "cell_type": "markdown",
   "metadata": {},
   "source": [
    "## NLP - Review x Nota\n",
    "Aqui, buscou-se modelar o comentário de feedback, comparado não diretamente com a nota dada, mas simplesmente se deu nota máxima ou não, a fim de binarizar para simplificar o modelo e as análises."
   ]
  },
  {
   "cell_type": "code",
   "execution_count": 11,
   "metadata": {},
   "outputs": [
    {
     "name": "stdout",
     "output_type": "stream",
     "text": [
      "                              acurácia  precisão  f1 score\n",
      "Random Forest                 0.821458  0.786349  0.828743\n",
      "XGBoost                       0.825769  0.778361  0.836563\n",
      "Gradient Boosting Classifier  0.799496  0.738215  0.818950\n",
      "SVM                           0.831869  0.782763  0.842562\n",
      "Naive Bayes Gaussian          0.645274  0.587246  0.724284\n",
      "Naive Bayes Multinomial       0.827884  0.776284  0.839770\n",
      "Naive Bayes Complement        0.825769  0.778916  0.836389\n"
     ]
    }
   ],
   "source": [
    "NLP(dataset)"
   ]
  },
  {
   "cell_type": "markdown",
   "metadata": {},
   "source": [
    "-------------------------"
   ]
  },
  {
   "cell_type": "markdown",
   "metadata": {},
   "source": [
    "Daqui, vemos que é possível obter um bom ajuste de predição ao tentar prever se a nota será máxima ou não, baseado no comentário deixado pela pessoa. Como testou-se diversos algoritmos, e o resultado foi satisfatório com todas as técnicas, não é possível dizer que foi um vício do algoritmo. Além disso, concluimos que, por uma pequena margem, SVM (Support Vector Machine; Máquinas de suporte vetorial) foi o algoritmo mais eficiente em gerar predições de nota com base nos reviews."
   ]
  }
 ],
 "metadata": {
  "kernelspec": {
   "display_name": "Python 3",
   "language": "python",
   "name": "python3"
  },
  "language_info": {
   "codemirror_mode": {
    "name": "ipython",
    "version": 3
   },
   "file_extension": ".py",
   "mimetype": "text/x-python",
   "name": "python",
   "nbconvert_exporter": "python",
   "pygments_lexer": "ipython3",
   "version": "3.12.0"
  }
 },
 "nbformat": 4,
 "nbformat_minor": 2
}
