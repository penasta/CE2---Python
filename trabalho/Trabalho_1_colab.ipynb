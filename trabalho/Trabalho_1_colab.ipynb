{
  "cells": [
    {
      "cell_type": "markdown",
      "metadata": {
        "id": "_pgpZQ5WNKqW"
      },
      "source": [
        "Grupo: Júlia Garcia, Natália Vieira"
      ]
    },
    {
      "cell_type": "markdown",
      "metadata": {
        "id": "FUWllffqNIRe"
      },
      "source": [
        "https://dontpad.com/pyce2/olist\n",
        "\n",
        "## Bancos utilizados para o trabalho\n",
        "Nome dos bancos:\n",
        "- olist_customers_dataset.csv\n",
        "- olist_order_items_dataset.csv\n",
        "- olist_order_payments_dataset.csv\n",
        "- olist_order_reviews_dataset.csv\n",
        "- olist_orders_dataset.csv\n",
        "- olist_products_dataset.csv\n",
        "- olist_sellers_dataset.csv\n",
        "\n",
        "\n",
        "\n",
        "Colunas que ligam os bancos\n",
        "\n",
        "<img src=\"https://i.imgur.com/HRhd2Y0.png\" width=\"800\">"
      ]
    },
    {
      "cell_type": "code",
      "execution_count": 2,
      "metadata": {
        "id": "uqHnIk3QM1rK"
      },
      "outputs": [],
      "source": [
        "import pandas as pd\n",
        "import seaborn as sbn\n",
        "import numpy as np\n",
        "from scipy import stats"
      ]
    },
    {
      "cell_type": "code",
      "execution_count": 3,
      "metadata": {
        "id": "jbz879KBNRzf"
      },
      "outputs": [],
      "source": [
        "### Importação dos bancos e informações sobre cada um\n",
        "\n",
        "# banco clientes: id do cliente, id único, cep, cidade, estado\n",
        "clientes = pd.read_csv(\"https://raw.githubusercontent.com/edunb01/dotfiles/master/olist_customers_dataset.csv\")\n",
        "\n",
        "# banco itens = id do pedido, id do item do pedido, id do produto, id do vendedor, data limite de envio, preço do pedido, preço do frete\n",
        "itens = pd.read_csv(\"https://raw.githubusercontent.com/edunb01/dotfiles/master/olist_order_items_dataset.csv\")\n",
        "\n",
        "# banco pagamento = id do pedido, sequência do pagamento, tipo de pagamento, parcelamento do pagamento, valor do pagamento\n",
        "pagamento = pd.read_csv(\"https://raw.githubusercontent.com/edunb01/dotfiles/master/olist_order_payments_dataset.csv\")\n",
        "\n",
        "# banco reviews = id da review, id do pedido, avaliação (1-5), título, mensagem, data de criação, data/hora\n",
        "reviews = pd.read_csv(\"https://raw.githubusercontent.com/edunb01/dotfiles/master/olist_order_reviews_dataset.csv\")\n",
        "\n",
        "# banco pedido = id do pedido, id do cliente, status do pedido, data/hora pedido, data de aprovação, data de entrega da transportadora, entrega cliente(data), entrega estimada(data)\n",
        "pedido = pd.read_csv(\"https://raw.githubusercontent.com/edunb01/dotfiles/master/olist_orders_dataset.csv\")\n",
        "\n",
        "# banco produtos = id do produto, categoria, tamanho do nome, tamanho descrição, quanti de fotos, peso (gr), comprimento (cm), altura(cm), largura(cm)\n",
        "produtos = pd.read_csv(\"https://raw.githubusercontent.com/edunb01/dotfiles/master/olist_products_dataset.csv\")\n",
        "\n",
        "# banco vendedores = id do vendedor, prefixo do cep do vendedor, cidade do vendedor, estado do vendedor\n",
        "vendedores = pd.read_csv(\"https://raw.githubusercontent.com/edunb01/dotfiles/master/olist_sellers_dataset.csv\")"
      ]
    },
    {
      "cell_type": "markdown",
      "metadata": {
        "id": "20I9kXWMNcm5"
      },
      "source": [
        "# Ideias de análises\n",
        "\n",
        "- Clientes que mais/menos gastaram\n",
        "- Clientes que mais realizaram pedidos\n",
        "- Vendedores com os produtos mais caros\n",
        "- Vendedores que mais lucraram\n",
        "- Tipo de pagamento mais utilizado\n",
        "- Nº médio de parcelas\n",
        "- Valor do pagamento x Parcelas\n",
        "- Faixas de preço do pedido e frequência das parcelas\n",
        "- Tipo de pagamento x tempo para aprovação\n",
        "- Pedidos mais bem avaliados\n",
        "- Pedidos com avaliações baixas\n",
        "- Vendedores com melhores/piores avaliações\n",
        "- Clientes que mais fazem reviews\n",
        "- Status dos pedidos\n",
        "- Tempo médio para aprovação\n",
        "- Tempo médio para entrega\n",
        "- Categorias x tempo de entrega\n",
        "- Vendedores x Tempo dde entrega para transportadora\n",
        "- Data estimada x data de entrega (sozinha e/ou vendedores)\n",
        "- Quantidade de fotos do produto x avaliação"
      ]
    }
  ],
  "metadata": {
    "colab": {
      "provenance": []
    },
    "kernelspec": {
      "display_name": "Python 3",
      "name": "python3"
    },
    "language_info": {
      "codemirror_mode": {
        "name": "ipython",
        "version": 3
      },
      "file_extension": ".py",
      "mimetype": "text/x-python",
      "name": "python",
      "nbconvert_exporter": "python",
      "pygments_lexer": "ipython3",
      "version": "3.12.0"
    }
  },
  "nbformat": 4,
  "nbformat_minor": 0
}
