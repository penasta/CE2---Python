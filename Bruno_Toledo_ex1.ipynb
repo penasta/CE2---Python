{
 "cells": [
  {
   "cell_type": "markdown",
   "metadata": {},
   "source": [
    "# Atividade 1"
   ]
  },
  {
   "cell_type": "markdown",
   "metadata": {},
   "source": [
    "## Leitura de dados"
   ]
  },
  {
   "cell_type": "code",
   "execution_count": 2,
   "metadata": {},
   "outputs": [],
   "source": [
    "import pandas as pd\n",
    "aneel = pd.read_csv(\"https://raw.githubusercontent.com/edunb01/dotfiles/master/TarifaFornecimentoResidencial.csv\",\n",
    "encoding=\"ISO8859_9\")\n"
   ]
  },
  {
   "cell_type": "code",
   "execution_count": 3,
   "metadata": {},
   "outputs": [
    {
     "name": "stdout",
     "output_type": "stream",
     "text": [
      "_____________________\n",
      "Coluna: nomConcessao Descrição: A empresa é permissionária ou concessionária?\n",
      "_____________________\n",
      "Coluna: SigDistribuidora Descrição: Nome/sigla da empresa\n",
      "_____________________\n",
      "Coluna: SigRegiao Descrição: Região de localização da empresa\n",
      "_____________________\n",
      "Coluna: VlrTUSDConvencional Descrição: Valor da taxa de uso e distribuição da rede\n",
      "_____________________\n",
      "Coluna: VlrTEConvencional Descrição: Valor da tarifa de energia\n",
      "_____________________\n",
      "Coluna: VlrTotaTRFConvencional Descrição: Valor total de uso da rede e tarifa de energia\n",
      "_____________________\n",
      "Coluna: VlrTRFBrancaPonta Descrição: Valor da energia com tarifa branca em horário de ponta\n",
      "_____________________\n",
      "Coluna: VlrTRFBrancaIntermediaria Descrição: Valor da energia com tarifa branca em horário intermediario\n",
      "_____________________\n",
      "Coluna: VlrTRFBrancaForaPonta Descrição: Valor da energia com tarifa branca em horário de fora de ponta\n"
     ]
    }
   ],
   "source": [
    "coluna = list(aneel.columns[1:10])\n",
    "\n",
    "descricao = [\"A empresa é permissionária ou concessionária?\",\n",
    "\"Nome/sigla da empresa\",\n",
    "\"Região de localização da empresa\",\n",
    "\"Valor da taxa de uso e distribuição da rede\",\n",
    "\"Valor da tarifa de energia\",\n",
    "\"Valor total de uso da rede e tarifa de energia\",\n",
    "\"Valor da energia com tarifa branca em horário de ponta\",\n",
    "\"Valor da energia com tarifa branca em horário intermediario\",\n",
    "\"Valor da energia com tarifa branca em horário de fora de ponta\"]\n",
    "\n",
    "metadados = list(zip(coluna,descricao))\n",
    "\n",
    "for i in range(len(metadados)):\n",
    "    print(\"_____________________\")\n",
    "    print(\"Coluna: \" + metadados[i][0] + \" Descrição: \" + metadados[i][1] )\n"
   ]
  },
  {
   "cell_type": "markdown",
   "metadata": {},
   "source": [
    "• Quantas empresas são conessionárias e quantas são permissionárias?"
   ]
  },
  {
   "cell_type": "code",
   "execution_count": 4,
   "metadata": {},
   "outputs": [
    {
     "data": {
      "text/plain": [
       "nomConcessao\n",
       "Concessionária    53\n",
       "Permissionária    51\n",
       "Name: count, dtype: int64"
      ]
     },
     "execution_count": 4,
     "metadata": {},
     "output_type": "execute_result"
    }
   ],
   "source": [
    "aneel[\"nomConcessao\"].value_counts()"
   ]
  },
  {
   "cell_type": "markdown",
   "metadata": {},
   "source": [
    "• Quantas empresas estão localizadas em cada região do país?"
   ]
  },
  {
   "cell_type": "code",
   "execution_count": 5,
   "metadata": {},
   "outputs": [
    {
     "data": {
      "text/plain": [
       "SigRegiao\n",
       "S     50\n",
       "SE    30\n",
       "NE    12\n",
       "N      7\n",
       "CO     5\n",
       "Name: count, dtype: int64"
      ]
     },
     "execution_count": 5,
     "metadata": {},
     "output_type": "execute_result"
    }
   ],
   "source": [
    "aneel[\"SigRegiao\"].value_counts()"
   ]
  },
  {
   "cell_type": "markdown",
   "metadata": {},
   "source": [
    "• Usando as estruturas de controle vistas nas aulas passadas calcule a média de VlrTotaTRFConvencional para cada uma das regiões do país."
   ]
  },
  {
   "cell_type": "code",
   "execution_count": 6,
   "metadata": {},
   "outputs": [
    {
     "name": "stdout",
     "output_type": "stream",
     "text": [
      "Região: N  Média: 0.6224657142857143\n",
      "Região: S  Média: 0.5179841999999999\n",
      "Região: NE Média: 0.5810016666666666\n",
      "Região: CO Média: 0.58617\n",
      "Região: SE Média: 0.6178373333333335\n"
     ]
    }
   ],
   "source": [
    "for i in aneel[\"SigRegiao\"].unique():\n",
    "    print(\"Região: \" + i + \" Média: \" + str(aneel[aneel[\"SigRegiao\"] == i][\"VlrTotaTRFConvencional\"].mean()))"
   ]
  },
  {
   "cell_type": "markdown",
   "metadata": {},
   "source": [
    "• Consulte a documentação/internet sobre o método DataFrame.groupby para repetir o item\n",
    "anterior usando esse método."
   ]
  },
  {
   "cell_type": "code",
   "execution_count": 7,
   "metadata": {},
   "outputs": [
    {
     "data": {
      "text/plain": [
       "SigRegiao\n",
       "CO    0.586170\n",
       "N     0.622466\n",
       "NE    0.581002\n",
       "S     0.517984\n",
       "SE    0.617837\n",
       "Name: VlrTotaTRFConvencional, dtype: float64"
      ]
     },
     "execution_count": 7,
     "metadata": {},
     "output_type": "execute_result"
    }
   ],
   "source": [
    "aneel.groupby(\"SigRegiao\")[\"VlrTotaTRFConvencional\"].mean()"
   ]
  },
  {
   "cell_type": "markdown",
   "metadata": {},
   "source": [
    "• Para cada empresa calcule a diferença entre VlrTotaTRFConvencional e VlrTRFBrancaPonta.\n"
   ]
  },
  {
   "cell_type": "code",
   "execution_count": 8,
   "metadata": {},
   "outputs": [
    {
     "data": {
      "text/plain": [
       "0   -0.54898\n",
       "1   -0.62029\n",
       "2   -0.20559\n",
       "3   -0.66854\n",
       "4   -0.58834\n",
       "Name: Diferenca, dtype: float64"
      ]
     },
     "execution_count": 8,
     "metadata": {},
     "output_type": "execute_result"
    }
   ],
   "source": [
    "aneel[\"Diferenca\"] = aneel[\"VlrTotaTRFConvencional\"] - aneel[\"VlrTRFBrancaPonta\"]\n",
    "aneel[\"Diferenca\"].head()"
   ]
  },
  {
   "cell_type": "markdown",
   "metadata": {},
   "source": [
    "• Considerando as diferenças obtidas no item anterior calcule as médias de diferenças separadamente para empresas concessionárias e permissionárias."
   ]
  },
  {
   "cell_type": "code",
   "execution_count": 9,
   "metadata": {},
   "outputs": [
    {
     "data": {
      "text/plain": [
       "nomConcessao\n",
       "Concessionária   -0.552770\n",
       "Permissionária   -0.490482\n",
       "Name: Diferenca, dtype: float64"
      ]
     },
     "execution_count": 9,
     "metadata": {},
     "output_type": "execute_result"
    }
   ],
   "source": [
    "aneel.groupby(\"nomConcessao\")[\"Diferenca\"].mean()"
   ]
  },
  {
   "cell_type": "markdown",
   "metadata": {},
   "source": [
    "• Construa uma função que receba como argumentos: um número inteiro “n” e o nome de uma das colunas numéricas. O retorno da função deve ser um dataframe com os nomes das empresas e os valores da coluna escolhida para as “n” empresas com menores preços para a coluna escolhida.\n"
   ]
  },
  {
   "cell_type": "code",
   "execution_count": 10,
   "metadata": {},
   "outputs": [],
   "source": [
    "def menores_precos(n, ncol):\n",
    "    return aneel.sort_values(ncol)[[\"SigDistribuidora\", ncol]].head(n)"
   ]
  },
  {
   "cell_type": "code",
   "execution_count": 21,
   "metadata": {},
   "outputs": [],
   "source": [
    "# Sol. do professor:\n",
    "def pegamenores(n,coluna,tabela):\n",
    "    tabela.sort_values(by=coluna,inplace=True)\n",
    "    return tabela.head(n)[['SigDistribuidora',coluna]]"
   ]
  },
  {
   "cell_type": "code",
   "execution_count": 23,
   "metadata": {},
   "outputs": [
    {
     "data": {
      "text/html": [
       "<div>\n",
       "<style scoped>\n",
       "    .dataframe tbody tr th:only-of-type {\n",
       "        vertical-align: middle;\n",
       "    }\n",
       "\n",
       "    .dataframe tbody tr th {\n",
       "        vertical-align: top;\n",
       "    }\n",
       "\n",
       "    .dataframe thead th {\n",
       "        text-align: right;\n",
       "    }\n",
       "</style>\n",
       "<table border=\"1\" class=\"dataframe\">\n",
       "  <thead>\n",
       "    <tr style=\"text-align: right;\">\n",
       "      <th></th>\n",
       "      <th>SigDistribuidora</th>\n",
       "      <th>VlrTotaTRFConvencional</th>\n",
       "    </tr>\n",
       "  </thead>\n",
       "  <tbody>\n",
       "    <tr>\n",
       "      <th>2</th>\n",
       "      <td>CASTRO - DIS</td>\n",
       "      <td>0.33101</td>\n",
       "    </tr>\n",
       "    <tr>\n",
       "      <th>57</th>\n",
       "      <td>Coopera</td>\n",
       "      <td>0.33807</td>\n",
       "    </tr>\n",
       "  </tbody>\n",
       "</table>\n",
       "</div>"
      ],
      "text/plain": [
       "   SigDistribuidora  VlrTotaTRFConvencional\n",
       "2      CASTRO - DIS                 0.33101\n",
       "57          Coopera                 0.33807"
      ]
     },
     "execution_count": 23,
     "metadata": {},
     "output_type": "execute_result"
    }
   ],
   "source": [
    "menores_precos(2, \"VlrTotaTRFConvencional\")"
   ]
  },
  {
   "cell_type": "code",
   "execution_count": 22,
   "metadata": {},
   "outputs": [
    {
     "data": {
      "text/html": [
       "<div>\n",
       "<style scoped>\n",
       "    .dataframe tbody tr th:only-of-type {\n",
       "        vertical-align: middle;\n",
       "    }\n",
       "\n",
       "    .dataframe tbody tr th {\n",
       "        vertical-align: top;\n",
       "    }\n",
       "\n",
       "    .dataframe thead th {\n",
       "        text-align: right;\n",
       "    }\n",
       "</style>\n",
       "<table border=\"1\" class=\"dataframe\">\n",
       "  <thead>\n",
       "    <tr style=\"text-align: right;\">\n",
       "      <th></th>\n",
       "      <th>SigDistribuidora</th>\n",
       "      <th>VlrTotaTRFConvencional</th>\n",
       "    </tr>\n",
       "  </thead>\n",
       "  <tbody>\n",
       "    <tr>\n",
       "      <th>2</th>\n",
       "      <td>CASTRO - DIS</td>\n",
       "      <td>0.33101</td>\n",
       "    </tr>\n",
       "    <tr>\n",
       "      <th>57</th>\n",
       "      <td>Coopera</td>\n",
       "      <td>0.33807</td>\n",
       "    </tr>\n",
       "  </tbody>\n",
       "</table>\n",
       "</div>"
      ],
      "text/plain": [
       "   SigDistribuidora  VlrTotaTRFConvencional\n",
       "2      CASTRO - DIS                 0.33101\n",
       "57          Coopera                 0.33807"
      ]
     },
     "execution_count": 22,
     "metadata": {},
     "output_type": "execute_result"
    }
   ],
   "source": [
    "pegamenores(2,\"VlrTotaTRFConvencional\",aneel)"
   ]
  },
  {
   "cell_type": "code",
   "execution_count": 14,
   "metadata": {},
   "outputs": [
    {
     "data": {
      "text/html": [
       "<div>\n",
       "<style scoped>\n",
       "    .dataframe tbody tr th:only-of-type {\n",
       "        vertical-align: middle;\n",
       "    }\n",
       "\n",
       "    .dataframe tbody tr th {\n",
       "        vertical-align: top;\n",
       "    }\n",
       "\n",
       "    .dataframe thead th {\n",
       "        text-align: right;\n",
       "    }\n",
       "</style>\n",
       "<table border=\"1\" class=\"dataframe\">\n",
       "  <thead>\n",
       "    <tr style=\"text-align: right;\">\n",
       "      <th></th>\n",
       "      <th>SigDistribuidora</th>\n",
       "      <th>VlrTUSDConvencional</th>\n",
       "    </tr>\n",
       "  </thead>\n",
       "  <tbody>\n",
       "    <tr>\n",
       "      <th>2</th>\n",
       "      <td>CASTRO - DIS</td>\n",
       "      <td>0.16845</td>\n",
       "    </tr>\n",
       "    <tr>\n",
       "      <th>9</th>\n",
       "      <td>CEGERO</td>\n",
       "      <td>0.17147</td>\n",
       "    </tr>\n",
       "    <tr>\n",
       "      <th>55</th>\n",
       "      <td>CODESAM</td>\n",
       "      <td>0.19047</td>\n",
       "    </tr>\n",
       "    <tr>\n",
       "      <th>60</th>\n",
       "      <td>Cooperluz</td>\n",
       "      <td>0.19120</td>\n",
       "    </tr>\n",
       "  </tbody>\n",
       "</table>\n",
       "</div>"
      ],
      "text/plain": [
       "   SigDistribuidora  VlrTUSDConvencional\n",
       "2      CASTRO - DIS              0.16845\n",
       "9            CEGERO              0.17147\n",
       "55          CODESAM              0.19047\n",
       "60        Cooperluz              0.19120"
      ]
     },
     "execution_count": 14,
     "metadata": {},
     "output_type": "execute_result"
    }
   ],
   "source": [
    "menores_precos(4, \"VlrTUSDConvencional\")"
   ]
  },
  {
   "cell_type": "code",
   "execution_count": 15,
   "metadata": {},
   "outputs": [
    {
     "data": {
      "text/html": [
       "<div>\n",
       "<style scoped>\n",
       "    .dataframe tbody tr th:only-of-type {\n",
       "        vertical-align: middle;\n",
       "    }\n",
       "\n",
       "    .dataframe tbody tr th {\n",
       "        vertical-align: top;\n",
       "    }\n",
       "\n",
       "    .dataframe thead th {\n",
       "        text-align: right;\n",
       "    }\n",
       "</style>\n",
       "<table border=\"1\" class=\"dataframe\">\n",
       "  <thead>\n",
       "    <tr style=\"text-align: right;\">\n",
       "      <th></th>\n",
       "      <th>SigDistribuidora</th>\n",
       "      <th>VlrTEConvencional</th>\n",
       "    </tr>\n",
       "  </thead>\n",
       "  <tbody>\n",
       "    <tr>\n",
       "      <th>50</th>\n",
       "      <td>Certrel</td>\n",
       "      <td>0.06067</td>\n",
       "    </tr>\n",
       "    <tr>\n",
       "      <th>39</th>\n",
       "      <td>Cermoful</td>\n",
       "      <td>0.10584</td>\n",
       "    </tr>\n",
       "    <tr>\n",
       "      <th>27</th>\n",
       "      <td>Cerej</td>\n",
       "      <td>0.10906</td>\n",
       "    </tr>\n",
       "  </tbody>\n",
       "</table>\n",
       "</div>"
      ],
      "text/plain": [
       "   SigDistribuidora  VlrTEConvencional\n",
       "50          Certrel            0.06067\n",
       "39         Cermoful            0.10584\n",
       "27            Cerej            0.10906"
      ]
     },
     "execution_count": 15,
     "metadata": {},
     "output_type": "execute_result"
    }
   ],
   "source": [
    "menores_precos(3, \"VlrTEConvencional\")"
   ]
  }
 ],
 "metadata": {
  "kernelspec": {
   "display_name": "Python 3",
   "language": "python",
   "name": "python3"
  },
  "language_info": {
   "codemirror_mode": {
    "name": "ipython",
    "version": 3
   },
   "file_extension": ".py",
   "mimetype": "text/x-python",
   "name": "python",
   "nbconvert_exporter": "python",
   "pygments_lexer": "ipython3",
   "version": "3.11.4"
  },
  "orig_nbformat": 4
 },
 "nbformat": 4,
 "nbformat_minor": 2
}
