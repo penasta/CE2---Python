{
 "cells": [
  {
   "cell_type": "code",
   "execution_count": 5,
   "metadata": {},
   "outputs": [],
   "source": [
    "import pandas as pd\n",
    "import numpy as np"
   ]
  },
  {
   "cell_type": "code",
   "execution_count": 6,
   "metadata": {},
   "outputs": [],
   "source": [
    "costumers = pd.read_csv('https://raw.githubusercontent.com/edunb01/dotfiles/master/olist_customers_dataset.csv')\n",
    "itens = pd.read_csv('https://raw.githubusercontent.com/edunb01/dotfiles/master/olist_order_items_dataset.csv')\n",
    "payments = pd.read_csv('https://raw.githubusercontent.com/edunb01/dotfiles/master/olist_order_payments_dataset.csv')\n",
    "reviews = pd.read_csv('https://raw.githubusercontent.com/edunb01/dotfiles/master/olist_order_reviews_dataset.csv')\n",
    "orders = pd.read_csv('https://raw.githubusercontent.com/edunb01/dotfiles/master/olist_orders_dataset.csv')\n",
    "products = pd.read_csv('https://raw.githubusercontent.com/edunb01/dotfiles/master/olist_products_dataset.csv')\n",
    "sellers = pd.read_csv('https://raw.githubusercontent.com/edunb01/dotfiles/master/olist_sellers_dataset.csv')"
   ]
  },
  {
   "cell_type": "code",
   "execution_count": 7,
   "metadata": {},
   "outputs": [
    {
     "data": {
      "text/html": [
       "<div>\n",
       "<style scoped>\n",
       "    .dataframe tbody tr th:only-of-type {\n",
       "        vertical-align: middle;\n",
       "    }\n",
       "\n",
       "    .dataframe tbody tr th {\n",
       "        vertical-align: top;\n",
       "    }\n",
       "\n",
       "    .dataframe thead th {\n",
       "        text-align: right;\n",
       "    }\n",
       "</style>\n",
       "<table border=\"1\" class=\"dataframe\">\n",
       "  <thead>\n",
       "    <tr style=\"text-align: right;\">\n",
       "      <th></th>\n",
       "      <th>order_id</th>\n",
       "      <th>order_item_id</th>\n",
       "      <th>product_id</th>\n",
       "      <th>seller_id</th>\n",
       "      <th>shipping_limit_date</th>\n",
       "      <th>price</th>\n",
       "      <th>freight_value</th>\n",
       "      <th>payment_sequential</th>\n",
       "      <th>payment_type</th>\n",
       "      <th>payment_installments</th>\n",
       "      <th>...</th>\n",
       "      <th>order_status</th>\n",
       "      <th>order_purchase_timestamp</th>\n",
       "      <th>order_approved_at</th>\n",
       "      <th>order_delivered_carrier_date</th>\n",
       "      <th>order_delivered_customer_date</th>\n",
       "      <th>order_estimated_delivery_date</th>\n",
       "      <th>customer_unique_id</th>\n",
       "      <th>customer_zip_code_prefix</th>\n",
       "      <th>customer_city</th>\n",
       "      <th>customer_state</th>\n",
       "    </tr>\n",
       "  </thead>\n",
       "  <tbody>\n",
       "    <tr>\n",
       "      <th>0</th>\n",
       "      <td>00010242fe8c5a6d1ba2dd792cb16214</td>\n",
       "      <td>1</td>\n",
       "      <td>4244733e06e7ecb4970a6e2683c13e61</td>\n",
       "      <td>48436dade18ac8b2bce089ec2a041202</td>\n",
       "      <td>2017-09-19 09:45:35</td>\n",
       "      <td>58.90</td>\n",
       "      <td>13.29</td>\n",
       "      <td>1</td>\n",
       "      <td>credit_card</td>\n",
       "      <td>2</td>\n",
       "      <td>...</td>\n",
       "      <td>delivered</td>\n",
       "      <td>2017-09-13 08:59:02</td>\n",
       "      <td>2017-09-13 09:45:35</td>\n",
       "      <td>2017-09-19 18:34:16</td>\n",
       "      <td>2017-09-20 23:43:48</td>\n",
       "      <td>2017-09-29 00:00:00</td>\n",
       "      <td>871766c5855e863f6eccc05f988b23cb</td>\n",
       "      <td>28013</td>\n",
       "      <td>campos dos goytacazes</td>\n",
       "      <td>RJ</td>\n",
       "    </tr>\n",
       "    <tr>\n",
       "      <th>1</th>\n",
       "      <td>130898c0987d1801452a8ed92a670612</td>\n",
       "      <td>1</td>\n",
       "      <td>4244733e06e7ecb4970a6e2683c13e61</td>\n",
       "      <td>48436dade18ac8b2bce089ec2a041202</td>\n",
       "      <td>2017-07-05 02:44:11</td>\n",
       "      <td>55.90</td>\n",
       "      <td>17.96</td>\n",
       "      <td>1</td>\n",
       "      <td>boleto</td>\n",
       "      <td>1</td>\n",
       "      <td>...</td>\n",
       "      <td>delivered</td>\n",
       "      <td>2017-06-28 11:52:20</td>\n",
       "      <td>2017-06-29 02:44:11</td>\n",
       "      <td>2017-07-05 12:00:33</td>\n",
       "      <td>2017-07-13 20:39:29</td>\n",
       "      <td>2017-07-26 00:00:00</td>\n",
       "      <td>0fb8e3eab2d3e79d92bb3fffbb97f188</td>\n",
       "      <td>75800</td>\n",
       "      <td>jatai</td>\n",
       "      <td>GO</td>\n",
       "    </tr>\n",
       "    <tr>\n",
       "      <th>2</th>\n",
       "      <td>532ed5e14e24ae1f0d735b91524b98b9</td>\n",
       "      <td>1</td>\n",
       "      <td>4244733e06e7ecb4970a6e2683c13e61</td>\n",
       "      <td>48436dade18ac8b2bce089ec2a041202</td>\n",
       "      <td>2018-05-23 10:56:25</td>\n",
       "      <td>64.90</td>\n",
       "      <td>18.33</td>\n",
       "      <td>1</td>\n",
       "      <td>credit_card</td>\n",
       "      <td>2</td>\n",
       "      <td>...</td>\n",
       "      <td>delivered</td>\n",
       "      <td>2018-05-18 10:25:53</td>\n",
       "      <td>2018-05-18 12:31:43</td>\n",
       "      <td>2018-05-23 14:05:00</td>\n",
       "      <td>2018-06-04 18:34:26</td>\n",
       "      <td>2018-06-07 00:00:00</td>\n",
       "      <td>3419052c8c6b45daf79c1e426f9e9bcb</td>\n",
       "      <td>30720</td>\n",
       "      <td>belo horizonte</td>\n",
       "      <td>MG</td>\n",
       "    </tr>\n",
       "    <tr>\n",
       "      <th>3</th>\n",
       "      <td>6f8c31653edb8c83e1a739408b5ff750</td>\n",
       "      <td>1</td>\n",
       "      <td>4244733e06e7ecb4970a6e2683c13e61</td>\n",
       "      <td>48436dade18ac8b2bce089ec2a041202</td>\n",
       "      <td>2017-08-07 18:55:08</td>\n",
       "      <td>58.90</td>\n",
       "      <td>16.17</td>\n",
       "      <td>1</td>\n",
       "      <td>credit_card</td>\n",
       "      <td>3</td>\n",
       "      <td>...</td>\n",
       "      <td>delivered</td>\n",
       "      <td>2017-08-01 18:38:42</td>\n",
       "      <td>2017-08-01 18:55:08</td>\n",
       "      <td>2017-08-02 19:07:36</td>\n",
       "      <td>2017-08-09 21:26:33</td>\n",
       "      <td>2017-08-25 00:00:00</td>\n",
       "      <td>e7c828d22c0682c1565252deefbe334d</td>\n",
       "      <td>83070</td>\n",
       "      <td>sao jose dos pinhais</td>\n",
       "      <td>PR</td>\n",
       "    </tr>\n",
       "    <tr>\n",
       "      <th>4</th>\n",
       "      <td>7d19f4ef4d04461989632411b7e588b9</td>\n",
       "      <td>1</td>\n",
       "      <td>4244733e06e7ecb4970a6e2683c13e61</td>\n",
       "      <td>48436dade18ac8b2bce089ec2a041202</td>\n",
       "      <td>2017-08-16 22:05:11</td>\n",
       "      <td>58.90</td>\n",
       "      <td>13.29</td>\n",
       "      <td>1</td>\n",
       "      <td>credit_card</td>\n",
       "      <td>4</td>\n",
       "      <td>...</td>\n",
       "      <td>delivered</td>\n",
       "      <td>2017-08-10 21:48:40</td>\n",
       "      <td>2017-08-10 22:05:11</td>\n",
       "      <td>2017-08-11 19:43:07</td>\n",
       "      <td>2017-08-24 20:04:21</td>\n",
       "      <td>2017-09-01 00:00:00</td>\n",
       "      <td>0bb98ba72dcc08e95f9d8cc434e9a2cc</td>\n",
       "      <td>36400</td>\n",
       "      <td>conselheiro lafaiete</td>\n",
       "      <td>MG</td>\n",
       "    </tr>\n",
       "    <tr>\n",
       "      <th>...</th>\n",
       "      <td>...</td>\n",
       "      <td>...</td>\n",
       "      <td>...</td>\n",
       "      <td>...</td>\n",
       "      <td>...</td>\n",
       "      <td>...</td>\n",
       "      <td>...</td>\n",
       "      <td>...</td>\n",
       "      <td>...</td>\n",
       "      <td>...</td>\n",
       "      <td>...</td>\n",
       "      <td>...</td>\n",
       "      <td>...</td>\n",
       "      <td>...</td>\n",
       "      <td>...</td>\n",
       "      <td>...</td>\n",
       "      <td>...</td>\n",
       "      <td>...</td>\n",
       "      <td>...</td>\n",
       "      <td>...</td>\n",
       "      <td>...</td>\n",
       "    </tr>\n",
       "    <tr>\n",
       "      <th>117324</th>\n",
       "      <td>fd607d0a02cb276bc764a15f80f0423f</td>\n",
       "      <td>2</td>\n",
       "      <td>02ad78835ec3f72e750d1dfa6a7e11b3</td>\n",
       "      <td>2a73cba571d90c694b7caca072ccf6ce</td>\n",
       "      <td>2018-08-02 02:24:15</td>\n",
       "      <td>171.39</td>\n",
       "      <td>19.35</td>\n",
       "      <td>1</td>\n",
       "      <td>boleto</td>\n",
       "      <td>1</td>\n",
       "      <td>...</td>\n",
       "      <td>delivered</td>\n",
       "      <td>2018-07-26 09:13:04</td>\n",
       "      <td>2018-07-27 02:24:15</td>\n",
       "      <td>2018-08-07 09:28:00</td>\n",
       "      <td>2018-08-16 17:12:37</td>\n",
       "      <td>2018-08-16 00:00:00</td>\n",
       "      <td>c13401002a5f9b60befb4c720de50be0</td>\n",
       "      <td>41820</td>\n",
       "      <td>salvador</td>\n",
       "      <td>BA</td>\n",
       "    </tr>\n",
       "    <tr>\n",
       "      <th>117325</th>\n",
       "      <td>fdaf98feac227eb978d8f33f36e0231d</td>\n",
       "      <td>1</td>\n",
       "      <td>f739e9151702508b18f796c53005e5e9</td>\n",
       "      <td>d1aa1ec0839dcab73a6161130eb1f94a</td>\n",
       "      <td>2017-04-27 05:10:28</td>\n",
       "      <td>119.90</td>\n",
       "      <td>16.14</td>\n",
       "      <td>1</td>\n",
       "      <td>boleto</td>\n",
       "      <td>1</td>\n",
       "      <td>...</td>\n",
       "      <td>delivered</td>\n",
       "      <td>2017-04-19 10:20:51</td>\n",
       "      <td>2017-04-21 05:10:28</td>\n",
       "      <td>2017-05-04 15:06:24</td>\n",
       "      <td>2017-05-24 10:52:43</td>\n",
       "      <td>2017-05-22 00:00:00</td>\n",
       "      <td>3d50a44231c2a153219cef76ee3e445d</td>\n",
       "      <td>22793</td>\n",
       "      <td>rio de janeiro</td>\n",
       "      <td>RJ</td>\n",
       "    </tr>\n",
       "    <tr>\n",
       "      <th>117326</th>\n",
       "      <td>fe68b52db13993f58175fa589125d345</td>\n",
       "      <td>1</td>\n",
       "      <td>f4135cbdece8245560f7be179533797a</td>\n",
       "      <td>3fefda3299e6dfaea3466ef346a3571a</td>\n",
       "      <td>2017-08-17 02:55:27</td>\n",
       "      <td>209.00</td>\n",
       "      <td>16.21</td>\n",
       "      <td>1</td>\n",
       "      <td>boleto</td>\n",
       "      <td>1</td>\n",
       "      <td>...</td>\n",
       "      <td>delivered</td>\n",
       "      <td>2017-08-11 10:15:22</td>\n",
       "      <td>2017-08-12 02:55:27</td>\n",
       "      <td>2017-08-14 22:03:19</td>\n",
       "      <td>2017-08-17 17:47:55</td>\n",
       "      <td>2017-09-04 00:00:00</td>\n",
       "      <td>52a953541861bbb4b79b39df24e00243</td>\n",
       "      <td>13485</td>\n",
       "      <td>limeira</td>\n",
       "      <td>SP</td>\n",
       "    </tr>\n",
       "    <tr>\n",
       "      <th>117327</th>\n",
       "      <td>ff701a7c869ad21de22a6994237c8a00</td>\n",
       "      <td>1</td>\n",
       "      <td>5ff4076c0f01eeba4f728c9e3fa2653c</td>\n",
       "      <td>3e35a8bb43569389d3cebef0ce820f69</td>\n",
       "      <td>2018-04-18 20:10:33</td>\n",
       "      <td>27.90</td>\n",
       "      <td>14.44</td>\n",
       "      <td>1</td>\n",
       "      <td>credit_card</td>\n",
       "      <td>1</td>\n",
       "      <td>...</td>\n",
       "      <td>delivered</td>\n",
       "      <td>2018-04-12 19:47:40</td>\n",
       "      <td>2018-04-12 20:10:33</td>\n",
       "      <td>2018-04-18 00:41:29</td>\n",
       "      <td>2018-04-20 17:48:39</td>\n",
       "      <td>2018-04-30 00:00:00</td>\n",
       "      <td>ddb2249e0316d365ceae561c0f011bce</td>\n",
       "      <td>12280</td>\n",
       "      <td>cacapava</td>\n",
       "      <td>SP</td>\n",
       "    </tr>\n",
       "    <tr>\n",
       "      <th>117328</th>\n",
       "      <td>ff701a7c869ad21de22a6994237c8a00</td>\n",
       "      <td>2</td>\n",
       "      <td>5ff4076c0f01eeba4f728c9e3fa2653c</td>\n",
       "      <td>3e35a8bb43569389d3cebef0ce820f69</td>\n",
       "      <td>2018-04-18 20:10:33</td>\n",
       "      <td>27.90</td>\n",
       "      <td>14.44</td>\n",
       "      <td>1</td>\n",
       "      <td>credit_card</td>\n",
       "      <td>1</td>\n",
       "      <td>...</td>\n",
       "      <td>delivered</td>\n",
       "      <td>2018-04-12 19:47:40</td>\n",
       "      <td>2018-04-12 20:10:33</td>\n",
       "      <td>2018-04-18 00:41:29</td>\n",
       "      <td>2018-04-20 17:48:39</td>\n",
       "      <td>2018-04-30 00:00:00</td>\n",
       "      <td>ddb2249e0316d365ceae561c0f011bce</td>\n",
       "      <td>12280</td>\n",
       "      <td>cacapava</td>\n",
       "      <td>SP</td>\n",
       "    </tr>\n",
       "  </tbody>\n",
       "</table>\n",
       "<p>117329 rows × 39 columns</p>\n",
       "</div>"
      ],
      "text/plain": [
       "                                order_id  order_item_id  \\\n",
       "0       00010242fe8c5a6d1ba2dd792cb16214              1   \n",
       "1       130898c0987d1801452a8ed92a670612              1   \n",
       "2       532ed5e14e24ae1f0d735b91524b98b9              1   \n",
       "3       6f8c31653edb8c83e1a739408b5ff750              1   \n",
       "4       7d19f4ef4d04461989632411b7e588b9              1   \n",
       "...                                  ...            ...   \n",
       "117324  fd607d0a02cb276bc764a15f80f0423f              2   \n",
       "117325  fdaf98feac227eb978d8f33f36e0231d              1   \n",
       "117326  fe68b52db13993f58175fa589125d345              1   \n",
       "117327  ff701a7c869ad21de22a6994237c8a00              1   \n",
       "117328  ff701a7c869ad21de22a6994237c8a00              2   \n",
       "\n",
       "                              product_id                         seller_id  \\\n",
       "0       4244733e06e7ecb4970a6e2683c13e61  48436dade18ac8b2bce089ec2a041202   \n",
       "1       4244733e06e7ecb4970a6e2683c13e61  48436dade18ac8b2bce089ec2a041202   \n",
       "2       4244733e06e7ecb4970a6e2683c13e61  48436dade18ac8b2bce089ec2a041202   \n",
       "3       4244733e06e7ecb4970a6e2683c13e61  48436dade18ac8b2bce089ec2a041202   \n",
       "4       4244733e06e7ecb4970a6e2683c13e61  48436dade18ac8b2bce089ec2a041202   \n",
       "...                                  ...                               ...   \n",
       "117324  02ad78835ec3f72e750d1dfa6a7e11b3  2a73cba571d90c694b7caca072ccf6ce   \n",
       "117325  f739e9151702508b18f796c53005e5e9  d1aa1ec0839dcab73a6161130eb1f94a   \n",
       "117326  f4135cbdece8245560f7be179533797a  3fefda3299e6dfaea3466ef346a3571a   \n",
       "117327  5ff4076c0f01eeba4f728c9e3fa2653c  3e35a8bb43569389d3cebef0ce820f69   \n",
       "117328  5ff4076c0f01eeba4f728c9e3fa2653c  3e35a8bb43569389d3cebef0ce820f69   \n",
       "\n",
       "        shipping_limit_date   price  freight_value  payment_sequential  \\\n",
       "0       2017-09-19 09:45:35   58.90          13.29                   1   \n",
       "1       2017-07-05 02:44:11   55.90          17.96                   1   \n",
       "2       2018-05-23 10:56:25   64.90          18.33                   1   \n",
       "3       2017-08-07 18:55:08   58.90          16.17                   1   \n",
       "4       2017-08-16 22:05:11   58.90          13.29                   1   \n",
       "...                     ...     ...            ...                 ...   \n",
       "117324  2018-08-02 02:24:15  171.39          19.35                   1   \n",
       "117325  2017-04-27 05:10:28  119.90          16.14                   1   \n",
       "117326  2017-08-17 02:55:27  209.00          16.21                   1   \n",
       "117327  2018-04-18 20:10:33   27.90          14.44                   1   \n",
       "117328  2018-04-18 20:10:33   27.90          14.44                   1   \n",
       "\n",
       "       payment_type  payment_installments  ...  order_status  \\\n",
       "0       credit_card                     2  ...     delivered   \n",
       "1            boleto                     1  ...     delivered   \n",
       "2       credit_card                     2  ...     delivered   \n",
       "3       credit_card                     3  ...     delivered   \n",
       "4       credit_card                     4  ...     delivered   \n",
       "...             ...                   ...  ...           ...   \n",
       "117324       boleto                     1  ...     delivered   \n",
       "117325       boleto                     1  ...     delivered   \n",
       "117326       boleto                     1  ...     delivered   \n",
       "117327  credit_card                     1  ...     delivered   \n",
       "117328  credit_card                     1  ...     delivered   \n",
       "\n",
       "        order_purchase_timestamp    order_approved_at  \\\n",
       "0            2017-09-13 08:59:02  2017-09-13 09:45:35   \n",
       "1            2017-06-28 11:52:20  2017-06-29 02:44:11   \n",
       "2            2018-05-18 10:25:53  2018-05-18 12:31:43   \n",
       "3            2017-08-01 18:38:42  2017-08-01 18:55:08   \n",
       "4            2017-08-10 21:48:40  2017-08-10 22:05:11   \n",
       "...                          ...                  ...   \n",
       "117324       2018-07-26 09:13:04  2018-07-27 02:24:15   \n",
       "117325       2017-04-19 10:20:51  2017-04-21 05:10:28   \n",
       "117326       2017-08-11 10:15:22  2017-08-12 02:55:27   \n",
       "117327       2018-04-12 19:47:40  2018-04-12 20:10:33   \n",
       "117328       2018-04-12 19:47:40  2018-04-12 20:10:33   \n",
       "\n",
       "       order_delivered_carrier_date order_delivered_customer_date  \\\n",
       "0               2017-09-19 18:34:16           2017-09-20 23:43:48   \n",
       "1               2017-07-05 12:00:33           2017-07-13 20:39:29   \n",
       "2               2018-05-23 14:05:00           2018-06-04 18:34:26   \n",
       "3               2017-08-02 19:07:36           2017-08-09 21:26:33   \n",
       "4               2017-08-11 19:43:07           2017-08-24 20:04:21   \n",
       "...                             ...                           ...   \n",
       "117324          2018-08-07 09:28:00           2018-08-16 17:12:37   \n",
       "117325          2017-05-04 15:06:24           2017-05-24 10:52:43   \n",
       "117326          2017-08-14 22:03:19           2017-08-17 17:47:55   \n",
       "117327          2018-04-18 00:41:29           2018-04-20 17:48:39   \n",
       "117328          2018-04-18 00:41:29           2018-04-20 17:48:39   \n",
       "\n",
       "        order_estimated_delivery_date                customer_unique_id  \\\n",
       "0                 2017-09-29 00:00:00  871766c5855e863f6eccc05f988b23cb   \n",
       "1                 2017-07-26 00:00:00  0fb8e3eab2d3e79d92bb3fffbb97f188   \n",
       "2                 2018-06-07 00:00:00  3419052c8c6b45daf79c1e426f9e9bcb   \n",
       "3                 2017-08-25 00:00:00  e7c828d22c0682c1565252deefbe334d   \n",
       "4                 2017-09-01 00:00:00  0bb98ba72dcc08e95f9d8cc434e9a2cc   \n",
       "...                               ...                               ...   \n",
       "117324            2018-08-16 00:00:00  c13401002a5f9b60befb4c720de50be0   \n",
       "117325            2017-05-22 00:00:00  3d50a44231c2a153219cef76ee3e445d   \n",
       "117326            2017-09-04 00:00:00  52a953541861bbb4b79b39df24e00243   \n",
       "117327            2018-04-30 00:00:00  ddb2249e0316d365ceae561c0f011bce   \n",
       "117328            2018-04-30 00:00:00  ddb2249e0316d365ceae561c0f011bce   \n",
       "\n",
       "        customer_zip_code_prefix          customer_city  customer_state  \n",
       "0                          28013  campos dos goytacazes              RJ  \n",
       "1                          75800                  jatai              GO  \n",
       "2                          30720         belo horizonte              MG  \n",
       "3                          83070   sao jose dos pinhais              PR  \n",
       "4                          36400   conselheiro lafaiete              MG  \n",
       "...                          ...                    ...             ...  \n",
       "117324                     41820               salvador              BA  \n",
       "117325                     22793         rio de janeiro              RJ  \n",
       "117326                     13485                limeira              SP  \n",
       "117327                     12280               cacapava              SP  \n",
       "117328                     12280               cacapava              SP  \n",
       "\n",
       "[117329 rows x 39 columns]"
      ]
     },
     "execution_count": 7,
     "metadata": {},
     "output_type": "execute_result"
    }
   ],
   "source": [
    "df = itens.merge(payments)\n",
    "df = df.merge(sellers)\n",
    "df = df.merge(products)\n",
    "df = df.merge(reviews)\n",
    "df = df.merge(orders)\n",
    "df = df.merge(costumers)\n",
    "df"
   ]
  },
  {
   "cell_type": "markdown",
   "metadata": {},
   "source": [
    "# Responda as seguintes perguntas:"
   ]
  },
  {
   "cell_type": "markdown",
   "metadata": {},
   "source": [
    "## Existe cliente com múltiplas compras? Qual cliente gastou mais? Qual cliente fez mais pedidos?"
   ]
  },
  {
   "cell_type": "code",
   "execution_count": 36,
   "metadata": {},
   "outputs": [
    {
     "data": {
      "text/plain": [
       "customer_unique_id\n",
       "9a736b248f67d166d2fbb006bcb877c3    75\n",
       "6fbc7cdadbb522125f4b27ae9dee4060    38\n",
       "f9ae226291893fda10af7965268fb7f6    35\n",
       "8af7ac63b2efbcbd88e5b11505e8098a    29\n",
       "569aa12b73b5f7edeaa6f2a01603e381    26\n",
       "Name: count, dtype: int64"
      ]
     },
     "execution_count": 36,
     "metadata": {},
     "output_type": "execute_result"
    }
   ],
   "source": [
    "df['customer_unique_id'].value_counts().head(5)"
   ]
  },
  {
   "cell_type": "code",
   "execution_count": 39,
   "metadata": {},
   "outputs": [
    {
     "data": {
      "text/html": [
       "<div>\n",
       "<style scoped>\n",
       "    .dataframe tbody tr th:only-of-type {\n",
       "        vertical-align: middle;\n",
       "    }\n",
       "\n",
       "    .dataframe tbody tr th {\n",
       "        vertical-align: top;\n",
       "    }\n",
       "\n",
       "    .dataframe thead th {\n",
       "        text-align: right;\n",
       "    }\n",
       "</style>\n",
       "<table border=\"1\" class=\"dataframe\">\n",
       "  <thead>\n",
       "    <tr style=\"text-align: right;\">\n",
       "      <th></th>\n",
       "      <th>payment_value</th>\n",
       "    </tr>\n",
       "    <tr>\n",
       "      <th>customer_unique_id</th>\n",
       "      <th></th>\n",
       "    </tr>\n",
       "  </thead>\n",
       "  <tbody>\n",
       "    <tr>\n",
       "      <th>0a0a92112bd4c708ca5fde585afaa872</th>\n",
       "      <td>109312.64</td>\n",
       "    </tr>\n",
       "    <tr>\n",
       "      <th>c402f431464c72e27330a67f7b94d4fb</th>\n",
       "      <td>44048.00</td>\n",
       "    </tr>\n",
       "    <tr>\n",
       "      <th>4007669dec559734d6f53e029e360987</th>\n",
       "      <td>36489.24</td>\n",
       "    </tr>\n",
       "    <tr>\n",
       "      <th>ef8d54b3797ea4db1d63f0ced6a906e9</th>\n",
       "      <td>30186.00</td>\n",
       "    </tr>\n",
       "    <tr>\n",
       "      <th>763c8b1c9c68a0229c42c9fc6f662b93</th>\n",
       "      <td>29099.52</td>\n",
       "    </tr>\n",
       "  </tbody>\n",
       "</table>\n",
       "</div>"
      ],
      "text/plain": [
       "                                  payment_value\n",
       "customer_unique_id                             \n",
       "0a0a92112bd4c708ca5fde585afaa872      109312.64\n",
       "c402f431464c72e27330a67f7b94d4fb       44048.00\n",
       "4007669dec559734d6f53e029e360987       36489.24\n",
       "ef8d54b3797ea4db1d63f0ced6a906e9       30186.00\n",
       "763c8b1c9c68a0229c42c9fc6f662b93       29099.52"
      ]
     },
     "execution_count": 39,
     "metadata": {},
     "output_type": "execute_result"
    }
   ],
   "source": [
    "df[['customer_unique_id','payment_value']].groupby('customer_unique_id').agg({'payment_value': 'sum'}).sort_values(by='payment_value', ascending=False).head(5)"
   ]
  },
  {
   "cell_type": "markdown",
   "metadata": {},
   "source": [
    "Existem múltiplos clientes com mais de uma compra; O cliente que mais gastou, gastou $109.312,64; O cliente que mais fez compras, fez 75 compras."
   ]
  },
  {
   "cell_type": "markdown",
   "metadata": {},
   "source": [
    "## Existem produtos entregues com atraso? Qual a proporção de atrasos?\n"
   ]
  },
  {
   "cell_type": "code",
   "execution_count": 45,
   "metadata": {},
   "outputs": [
    {
     "data": {
      "text/plain": [
       "True     0.903425\n",
       "False    0.096575\n",
       "Name: proportion, dtype: float64"
      ]
     },
     "execution_count": 45,
     "metadata": {},
     "output_type": "execute_result"
    }
   ],
   "source": [
    "df['order_delivered_customer_date'] = pd.to_datetime(df['order_delivered_customer_date'])\n",
    "df['order_estimated_delivery_date'] = pd.to_datetime(df['order_estimated_delivery_date'])\n",
    "(df['order_delivered_customer_date'] < df['order_estimated_delivery_date']).value_counts(normalize=True)\n"
   ]
  },
  {
   "cell_type": "markdown",
   "metadata": {},
   "source": [
    "Considerando a data estimada pela data de recebimento, podemos ver que pouco mais de 90% dos pedidos foram entregues até a data limite estimada.\n",
    "\n",
    "A proporção de atrasos, portanto, é da ordem de 9,66% aproximadamente."
   ]
  },
  {
   "cell_type": "markdown",
   "metadata": {},
   "source": [
    "## Qual a data do pedido mais antigo? Qual a data do pedido mais recente?"
   ]
  },
  {
   "cell_type": "code",
   "execution_count": 50,
   "metadata": {},
   "outputs": [
    {
     "data": {
      "text/plain": [
       "14941   2016-09-04 21:15:19\n",
       "Name: order_purchase_timestamp, dtype: datetime64[ns]"
      ]
     },
     "execution_count": 50,
     "metadata": {},
     "output_type": "execute_result"
    }
   ],
   "source": [
    "df['order_purchase_timestamp'] = pd.to_datetime(df['order_purchase_timestamp'])\n",
    "df['order_purchase_timestamp'].sort_values().head(1)"
   ]
  },
  {
   "cell_type": "code",
   "execution_count": 51,
   "metadata": {},
   "outputs": [
    {
     "data": {
      "text/plain": [
       "68150   2018-09-03 09:06:57\n",
       "Name: order_purchase_timestamp, dtype: datetime64[ns]"
      ]
     },
     "execution_count": 51,
     "metadata": {},
     "output_type": "execute_result"
    }
   ],
   "source": [
    "df['order_purchase_timestamp'] = pd.to_datetime(df['order_purchase_timestamp'])\n",
    "df['order_purchase_timestamp'].sort_values(ascending=False).head(1)"
   ]
  },
  {
   "cell_type": "markdown",
   "metadata": {},
   "source": [
    "O pedido mais antigo foi feito em 2016-09-04 21:15:19\n",
    "\n",
    "O pedido mais recente foi feito em 2018-09-03 09:06:57"
   ]
  },
  {
   "cell_type": "markdown",
   "metadata": {},
   "source": [
    "## É possível avaliar um pedido antes de receber?"
   ]
  },
  {
   "cell_type": "code",
   "execution_count": 52,
   "metadata": {},
   "outputs": [
    {
     "data": {
      "text/plain": [
       "True     0.898081\n",
       "False    0.101919\n",
       "Name: proportion, dtype: float64"
      ]
     },
     "execution_count": 52,
     "metadata": {},
     "output_type": "execute_result"
    }
   ],
   "source": [
    "df['order_delivered_customer_date'] = pd.to_datetime(df['order_delivered_customer_date'])\n",
    "df['review_creation_date'] = pd.to_datetime(df['review_creation_date'])\n",
    "(df['order_delivered_customer_date'] < df['review_creation_date']).value_counts(normalize=True)"
   ]
  },
  {
   "cell_type": "markdown",
   "metadata": {},
   "source": [
    "Aparentemente, não só é possível, como mais de 10% dos pedidos são avaliados antes de serem recebidos!\n",
    "Faz sentido até, visto que alguns podem atrasar ou até jamais chegarem..."
   ]
  },
  {
   "cell_type": "markdown",
   "metadata": {},
   "source": [
    "## Qual a proporção de pedidos com avaliações numéricas?"
   ]
  },
  {
   "cell_type": "code",
   "execution_count": 53,
   "metadata": {},
   "outputs": [
    {
     "data": {
      "text/plain": [
       "review_score\n",
       "False    1.0\n",
       "Name: proportion, dtype: float64"
      ]
     },
     "execution_count": 53,
     "metadata": {},
     "output_type": "execute_result"
    }
   ],
   "source": [
    "df['review_score'].isna().value_counts(normalize=True)"
   ]
  },
  {
   "cell_type": "markdown",
   "metadata": {},
   "source": [
    "Aparentemente, 100%!"
   ]
  },
  {
   "cell_type": "markdown",
   "metadata": {},
   "source": [
    "## Qual a proporção de pedidos com avaliações textuais?"
   ]
  },
  {
   "cell_type": "code",
   "execution_count": 54,
   "metadata": {},
   "outputs": [
    {
     "data": {
      "text/plain": [
       "review_comment_message\n",
       "True     0.576584\n",
       "False    0.423416\n",
       "Name: proportion, dtype: float64"
      ]
     },
     "execution_count": 54,
     "metadata": {},
     "output_type": "execute_result"
    }
   ],
   "source": [
    "df['review_comment_message'].isna().value_counts(normalize=True)"
   ]
  },
  {
   "cell_type": "markdown",
   "metadata": {},
   "source": [
    "Em torno de 57,66% dos pedidos tiveram alguma avaliação textual."
   ]
  },
  {
   "cell_type": "markdown",
   "metadata": {},
   "source": [
    "## Existe algum dia da semana com mais pedidos realizados?"
   ]
  },
  {
   "cell_type": "code",
   "execution_count": 63,
   "metadata": {},
   "outputs": [
    {
     "data": {
      "text/plain": [
       "order_purchase_timestamp\n",
       "Terça-feira      19052\n",
       "Segunda-feira    19036\n",
       "Quarta-feira     18299\n",
       "Quinta-feira     17568\n",
       "Sexta-feira      16761\n",
       "Domingo          13933\n",
       "Sábado           12680\n",
       "Name: count, dtype: int64"
      ]
     },
     "execution_count": 63,
     "metadata": {},
     "output_type": "execute_result"
    }
   ],
   "source": [
    "df['order_purchase_timestamp'].dt.day_name(locale='pt_BR').value_counts().head(7)"
   ]
  },
  {
   "cell_type": "markdown",
   "metadata": {},
   "source": [
    "Terça-feira é o dia com maior número de pedidos. Sábado é o dia com menor número de pedidos."
   ]
  }
 ],
 "metadata": {
  "kernelspec": {
   "display_name": "base",
   "language": "python",
   "name": "python3"
  },
  "language_info": {
   "codemirror_mode": {
    "name": "ipython",
    "version": 3
   },
   "file_extension": ".py",
   "mimetype": "text/x-python",
   "name": "python",
   "nbconvert_exporter": "python",
   "pygments_lexer": "ipython3",
   "version": "3.12.0"
  }
 },
 "nbformat": 4,
 "nbformat_minor": 2
}
